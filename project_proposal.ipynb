{
 "cells": [
  {
   "cell_type": "markdown",
   "id": "b6ef1cc6-0742-457d-aba8-2e6b2239f9de",
   "metadata": {},
   "source": [
    "## Ordinary vs Bayesian Regression for Soccer Analytics"
   ]
  },
  {
   "cell_type": "markdown",
   "id": "45be3f9f-90ec-40fc-9773-e33cc511257c",
   "metadata": {},
   "source": [
    "<b> Team Members </b>: Ahmed Rizk - 70995758 <br>\n",
    "<b> Theme </b>: Comparison of a Bayesian Estimator with a non Bayesian estimator"
   ]
  },
  {
   "cell_type": "markdown",
   "id": "98db3203-1619-42f6-8211-39b7bd0ecb6a",
   "metadata": {},
   "source": [
    "This project was inspired by this blog post: https://jramkiss.github.io/2020/03/01/regression-vs-bayesian-regression/"
   ]
  },
  {
   "cell_type": "markdown",
   "id": "0ae35a9a-a7ce-4515-9206-39dc7c45c53b",
   "metadata": {},
   "source": [
    "#### Github Repo"
   ]
  },
  {
   "cell_type": "markdown",
   "id": "ab753de4-8ff4-4499-aa72-bade0249dea3",
   "metadata": {},
   "source": [
    "https://github.com/izk20/STAT447C   \n",
    "\n",
    "all commits are made by myself."
   ]
  },
  {
   "cell_type": "markdown",
   "id": "f04b3902-0720-417e-98d1-439baf4eccdc",
   "metadata": {},
   "source": [
    "#### Introduction"
   ]
  },
  {
   "cell_type": "markdown",
   "id": "17d7bbdd-c9de-4c44-9599-1d7974bc5622",
   "metadata": {},
   "source": [
    "Data analytics is increasingly being cemented as a crucial part of soccer. Top teams utilize data regarding player performances and opposition analysis to inform their player recruitment, player development and even tactical strategies. Given the nature of the data collected, frequentist methods are predominantly used. This paper will attempt to explore bayesian regression approaches to predicting goals or assists and determine whether they could potentially perform better than frequentist approaches."
   ]
  },
  {
   "cell_type": "markdown",
   "id": "87e9e706-e1d7-4971-8c41-ae2aa2bbe851",
   "metadata": {},
   "source": [
    "#### Candidate Datasets"
   ]
  },
  {
   "cell_type": "markdown",
   "id": "1c8bd2ec-1569-45bb-be54-0ad262cd4890",
   "metadata": {},
   "source": [
    "The 2 original candidate datasets used are:"
   ]
  },
  {
   "cell_type": "markdown",
   "id": "3e0e6850-5318-41d4-bc99-e199a97e8f1d",
   "metadata": {},
   "source": [
    "https://www.kaggle.com/datasets/koklengyeo/big-5-player-statistics-2021-2022-season?select=Passing.csv"
   ]
  },
  {
   "cell_type": "markdown",
   "id": "f43ed096-9d9b-4563-b30b-a342dd7635c3",
   "metadata": {},
   "source": [
    "https://www.kaggle.com/datasets/koklengyeo/big-5-player-statistics-2021-2022-season?select=Shooting.csv "
   ]
  },
  {
   "cell_type": "markdown",
   "id": "5338c6af-652b-452f-812b-e5938efd8d6b",
   "metadata": {},
   "source": [
    "Both datasets contain real statistics for players in the top 5 leagues during the 2021-2022 season, scraped from FBREF. The former contains passing and chance creation related metrics, and the latter contains shooting and goal scoring related metrics. Minimal modifications have been made to rename columns and remove players with low playing minutes (completed less than 15 sets of 90 minutes) as well as defenders and goalkeepers. The aim of these modifications is to remove outliers (eg. players with outstanding stats but very few minutes of playing time) as well as players whose role on the field is not related to goals or chance creation. "
   ]
  },
  {
   "cell_type": "code",
   "execution_count": 26,
   "id": "bdd97ab9-5b2a-4e07-8e71-8f5a6e991e81",
   "metadata": {},
   "outputs": [
    {
     "name": "stderr",
     "output_type": "stream",
     "text": [
      "Warning message:\n",
      "\"package 'tidyverse' was built under R version 4.3.2\"\n",
      "Warning message:\n",
      "\"package 'ggplot2' was built under R version 4.3.2\"\n",
      "Warning message:\n",
      "\"package 'tibble' was built under R version 4.3.2\"\n",
      "Warning message:\n",
      "\"package 'tidyr' was built under R version 4.3.2\"\n",
      "Warning message:\n",
      "\"package 'readr' was built under R version 4.3.2\"\n",
      "Warning message:\n",
      "\"package 'dplyr' was built under R version 4.3.2\"\n",
      "Warning message:\n",
      "\"package 'stringr' was built under R version 4.3.2\"\n",
      "Warning message:\n",
      "\"package 'forcats' was built under R version 4.3.2\"\n",
      "Warning message:\n",
      "\"package 'lubridate' was built under R version 4.3.2\"\n",
      "── \u001b[1mAttaching core tidyverse packages\u001b[22m ──────────────────────────────────────────────────────────────── tidyverse 2.0.0 ──\n",
      "\u001b[32m✔\u001b[39m \u001b[34mdplyr    \u001b[39m 1.1.4     \u001b[32m✔\u001b[39m \u001b[34mreadr    \u001b[39m 2.1.5\n",
      "\u001b[32m✔\u001b[39m \u001b[34mforcats  \u001b[39m 1.0.0     \u001b[32m✔\u001b[39m \u001b[34mstringr  \u001b[39m 1.5.1\n",
      "\u001b[32m✔\u001b[39m \u001b[34mggplot2  \u001b[39m 3.4.4     \u001b[32m✔\u001b[39m \u001b[34mtibble   \u001b[39m 3.2.1\n",
      "\u001b[32m✔\u001b[39m \u001b[34mlubridate\u001b[39m 1.9.3     \u001b[32m✔\u001b[39m \u001b[34mtidyr    \u001b[39m 1.3.1\n",
      "\u001b[32m✔\u001b[39m \u001b[34mpurrr    \u001b[39m 1.0.2     \n",
      "── \u001b[1mConflicts\u001b[22m ────────────────────────────────────────────────────────────────────────────────── tidyverse_conflicts() ──\n",
      "\u001b[31m✖\u001b[39m \u001b[34mdplyr\u001b[39m::\u001b[32mfilter()\u001b[39m masks \u001b[34mstats\u001b[39m::filter()\n",
      "\u001b[31m✖\u001b[39m \u001b[34mdplyr\u001b[39m::\u001b[32mlag()\u001b[39m    masks \u001b[34mstats\u001b[39m::lag()\n",
      "\u001b[36mℹ\u001b[39m Use the conflicted package (\u001b[3m\u001b[34m<http://conflicted.r-lib.org/>\u001b[39m\u001b[23m) to force all conflicts to become errors\n"
     ]
    }
   ],
   "source": [
    "library(tidyverse)"
   ]
  },
  {
   "cell_type": "code",
   "execution_count": 25,
   "id": "a6cc3cde-06f1-4f2a-9185-c8249c9d12a5",
   "metadata": {
    "scrolled": true
   },
   "outputs": [
    {
     "data": {
      "text/html": [
       "<table class=\"dataframe\">\n",
       "<caption>A data.frame: 6 × 31</caption>\n",
       "<thead>\n",
       "\t<tr><th></th><th scope=col>Player</th><th scope=col>Nation</th><th scope=col>Pos</th><th scope=col>Squad</th><th scope=col>Comp</th><th scope=col>Age</th><th scope=col>Born</th><th scope=col>X90s</th><th scope=col>total_cmp</th><th scope=col>total_att</th><th scope=col>⋯</th><th scope=col>long_cmp.</th><th scope=col>Ast</th><th scope=col>xAG</th><th scope=col>xA</th><th scope=col>A.xAG</th><th scope=col>KP</th><th scope=col>final_third</th><th scope=col>PPA</th><th scope=col>CrsPA</th><th scope=col>PrgP</th></tr>\n",
       "\t<tr><th></th><th scope=col>&lt;chr&gt;</th><th scope=col>&lt;chr&gt;</th><th scope=col>&lt;chr&gt;</th><th scope=col>&lt;chr&gt;</th><th scope=col>&lt;chr&gt;</th><th scope=col>&lt;int&gt;</th><th scope=col>&lt;int&gt;</th><th scope=col>&lt;dbl&gt;</th><th scope=col>&lt;dbl&gt;</th><th scope=col>&lt;dbl&gt;</th><th scope=col>⋯</th><th scope=col>&lt;dbl&gt;</th><th scope=col>&lt;dbl&gt;</th><th scope=col>&lt;dbl&gt;</th><th scope=col>&lt;dbl&gt;</th><th scope=col>&lt;dbl&gt;</th><th scope=col>&lt;dbl&gt;</th><th scope=col>&lt;dbl&gt;</th><th scope=col>&lt;dbl&gt;</th><th scope=col>&lt;dbl&gt;</th><th scope=col>&lt;dbl&gt;</th></tr>\n",
       "</thead>\n",
       "<tbody>\n",
       "\t<tr><th scope=row>1</th><td>Salis Abdul Samed</td><td>gh GHA </td><td>MF  </td><td>Clermont Foot</td><td>fr Ligue 1        </td><td>21</td><td>2000</td><td>27.4</td><td>56.0</td><td>62.1</td><td>⋯</td><td>83.7</td><td>0.00</td><td>0.03</td><td>0.03</td><td>-0.03</td><td>0.62</td><td>3.18</td><td>0.47</td><td>0.04</td><td>3.94</td></tr>\n",
       "\t<tr><th scope=row>2</th><td>Laurent Abergel  </td><td>fr FRA </td><td>MF  </td><td>Lorient      </td><td>fr Ligue 1        </td><td>28</td><td>1993</td><td>32.8</td><td>40.9</td><td>50.6</td><td>⋯</td><td>64.4</td><td>0.06</td><td>0.11</td><td>0.08</td><td>-0.05</td><td>1.07</td><td>4.48</td><td>0.70</td><td>0.27</td><td>5.21</td></tr>\n",
       "\t<tr><th scope=row>3</th><td>Tammy Abraham    </td><td>eng ENG</td><td>FW  </td><td>Roma         </td><td>it Serie A        </td><td>23</td><td>1997</td><td>34.3</td><td>14.1</td><td>20.3</td><td>⋯</td><td>71.8</td><td>0.12</td><td>0.14</td><td>0.07</td><td>-0.02</td><td>1.11</td><td>1.02</td><td>0.79</td><td>0.09</td><td>2.04</td></tr>\n",
       "\t<tr><th scope=row>4</th><td>Che Adams        </td><td>sct SCO</td><td>FW  </td><td>Southampton  </td><td>eng Premier League</td><td>25</td><td>1996</td><td>22.7</td><td>13.4</td><td>20.8</td><td>⋯</td><td>52.9</td><td>0.13</td><td>0.13</td><td>0.07</td><td> 0.00</td><td>1.15</td><td>1.06</td><td>0.44</td><td>0.00</td><td>1.45</td></tr>\n",
       "\t<tr><th scope=row>5</th><td>Tyler Adams      </td><td>us USA </td><td>MF  </td><td>RB Leipzig   </td><td>de Bundesliga     </td><td>22</td><td>1999</td><td>15.0</td><td>52.9</td><td>61.2</td><td>⋯</td><td>69.0</td><td>0.07</td><td>0.06</td><td>0.09</td><td> 0.01</td><td>0.47</td><td>5.67</td><td>0.53</td><td>0.00</td><td>6.40</td></tr>\n",
       "\t<tr><th scope=row>6</th><td>Yacine Adli      </td><td>fr FRA </td><td>MFFW</td><td>Bordeaux     </td><td>fr Ligue 1        </td><td>21</td><td>2000</td><td>25.1</td><td>36.1</td><td>49.8</td><td>⋯</td><td>56.3</td><td>0.28</td><td>0.23</td><td>0.17</td><td> 0.05</td><td>2.35</td><td>4.86</td><td>1.43</td><td>0.16</td><td>6.53</td></tr>\n",
       "</tbody>\n",
       "</table>\n"
      ],
      "text/latex": [
       "A data.frame: 6 × 31\n",
       "\\begin{tabular}{r|lllllllllllllllllllll}\n",
       "  & Player & Nation & Pos & Squad & Comp & Age & Born & X90s & total\\_cmp & total\\_att & ⋯ & long\\_cmp. & Ast & xAG & xA & A.xAG & KP & final\\_third & PPA & CrsPA & PrgP\\\\\n",
       "  & <chr> & <chr> & <chr> & <chr> & <chr> & <int> & <int> & <dbl> & <dbl> & <dbl> & ⋯ & <dbl> & <dbl> & <dbl> & <dbl> & <dbl> & <dbl> & <dbl> & <dbl> & <dbl> & <dbl>\\\\\n",
       "\\hline\n",
       "\t1 & Salis Abdul Samed & gh GHA  & MF   & Clermont Foot & fr Ligue 1         & 21 & 2000 & 27.4 & 56.0 & 62.1 & ⋯ & 83.7 & 0.00 & 0.03 & 0.03 & -0.03 & 0.62 & 3.18 & 0.47 & 0.04 & 3.94\\\\\n",
       "\t2 & Laurent Abergel   & fr FRA  & MF   & Lorient       & fr Ligue 1         & 28 & 1993 & 32.8 & 40.9 & 50.6 & ⋯ & 64.4 & 0.06 & 0.11 & 0.08 & -0.05 & 1.07 & 4.48 & 0.70 & 0.27 & 5.21\\\\\n",
       "\t3 & Tammy Abraham     & eng ENG & FW   & Roma          & it Serie A         & 23 & 1997 & 34.3 & 14.1 & 20.3 & ⋯ & 71.8 & 0.12 & 0.14 & 0.07 & -0.02 & 1.11 & 1.02 & 0.79 & 0.09 & 2.04\\\\\n",
       "\t4 & Che Adams         & sct SCO & FW   & Southampton   & eng Premier League & 25 & 1996 & 22.7 & 13.4 & 20.8 & ⋯ & 52.9 & 0.13 & 0.13 & 0.07 &  0.00 & 1.15 & 1.06 & 0.44 & 0.00 & 1.45\\\\\n",
       "\t5 & Tyler Adams       & us USA  & MF   & RB Leipzig    & de Bundesliga      & 22 & 1999 & 15.0 & 52.9 & 61.2 & ⋯ & 69.0 & 0.07 & 0.06 & 0.09 &  0.01 & 0.47 & 5.67 & 0.53 & 0.00 & 6.40\\\\\n",
       "\t6 & Yacine Adli       & fr FRA  & MFFW & Bordeaux      & fr Ligue 1         & 21 & 2000 & 25.1 & 36.1 & 49.8 & ⋯ & 56.3 & 0.28 & 0.23 & 0.17 &  0.05 & 2.35 & 4.86 & 1.43 & 0.16 & 6.53\\\\\n",
       "\\end{tabular}\n"
      ],
      "text/markdown": [
       "\n",
       "A data.frame: 6 × 31\n",
       "\n",
       "| <!--/--> | Player &lt;chr&gt; | Nation &lt;chr&gt; | Pos &lt;chr&gt; | Squad &lt;chr&gt; | Comp &lt;chr&gt; | Age &lt;int&gt; | Born &lt;int&gt; | X90s &lt;dbl&gt; | total_cmp &lt;dbl&gt; | total_att &lt;dbl&gt; | ⋯ ⋯ | long_cmp. &lt;dbl&gt; | Ast &lt;dbl&gt; | xAG &lt;dbl&gt; | xA &lt;dbl&gt; | A.xAG &lt;dbl&gt; | KP &lt;dbl&gt; | final_third &lt;dbl&gt; | PPA &lt;dbl&gt; | CrsPA &lt;dbl&gt; | PrgP &lt;dbl&gt; |\n",
       "|---|---|---|---|---|---|---|---|---|---|---|---|---|---|---|---|---|---|---|---|---|---|\n",
       "| 1 | Salis Abdul Samed | gh GHA  | MF   | Clermont Foot | fr Ligue 1         | 21 | 2000 | 27.4 | 56.0 | 62.1 | ⋯ | 83.7 | 0.00 | 0.03 | 0.03 | -0.03 | 0.62 | 3.18 | 0.47 | 0.04 | 3.94 |\n",
       "| 2 | Laurent Abergel   | fr FRA  | MF   | Lorient       | fr Ligue 1         | 28 | 1993 | 32.8 | 40.9 | 50.6 | ⋯ | 64.4 | 0.06 | 0.11 | 0.08 | -0.05 | 1.07 | 4.48 | 0.70 | 0.27 | 5.21 |\n",
       "| 3 | Tammy Abraham     | eng ENG | FW   | Roma          | it Serie A         | 23 | 1997 | 34.3 | 14.1 | 20.3 | ⋯ | 71.8 | 0.12 | 0.14 | 0.07 | -0.02 | 1.11 | 1.02 | 0.79 | 0.09 | 2.04 |\n",
       "| 4 | Che Adams         | sct SCO | FW   | Southampton   | eng Premier League | 25 | 1996 | 22.7 | 13.4 | 20.8 | ⋯ | 52.9 | 0.13 | 0.13 | 0.07 |  0.00 | 1.15 | 1.06 | 0.44 | 0.00 | 1.45 |\n",
       "| 5 | Tyler Adams       | us USA  | MF   | RB Leipzig    | de Bundesliga      | 22 | 1999 | 15.0 | 52.9 | 61.2 | ⋯ | 69.0 | 0.07 | 0.06 | 0.09 |  0.01 | 0.47 | 5.67 | 0.53 | 0.00 | 6.40 |\n",
       "| 6 | Yacine Adli       | fr FRA  | MFFW | Bordeaux      | fr Ligue 1         | 21 | 2000 | 25.1 | 36.1 | 49.8 | ⋯ | 56.3 | 0.28 | 0.23 | 0.17 |  0.05 | 2.35 | 4.86 | 1.43 | 0.16 | 6.53 |\n",
       "\n"
      ],
      "text/plain": [
       "  Player            Nation  Pos  Squad         Comp               Age Born X90s\n",
       "1 Salis Abdul Samed gh GHA  MF   Clermont Foot fr Ligue 1         21  2000 27.4\n",
       "2 Laurent Abergel   fr FRA  MF   Lorient       fr Ligue 1         28  1993 32.8\n",
       "3 Tammy Abraham     eng ENG FW   Roma          it Serie A         23  1997 34.3\n",
       "4 Che Adams         sct SCO FW   Southampton   eng Premier League 25  1996 22.7\n",
       "5 Tyler Adams       us USA  MF   RB Leipzig    de Bundesliga      22  1999 15.0\n",
       "6 Yacine Adli       fr FRA  MFFW Bordeaux      fr Ligue 1         21  2000 25.1\n",
       "  total_cmp total_att ⋯ long_cmp. Ast  xAG  xA   A.xAG KP   final_third PPA \n",
       "1 56.0      62.1      ⋯ 83.7      0.00 0.03 0.03 -0.03 0.62 3.18        0.47\n",
       "2 40.9      50.6      ⋯ 64.4      0.06 0.11 0.08 -0.05 1.07 4.48        0.70\n",
       "3 14.1      20.3      ⋯ 71.8      0.12 0.14 0.07 -0.02 1.11 1.02        0.79\n",
       "4 13.4      20.8      ⋯ 52.9      0.13 0.13 0.07  0.00 1.15 1.06        0.44\n",
       "5 52.9      61.2      ⋯ 69.0      0.07 0.06 0.09  0.01 0.47 5.67        0.53\n",
       "6 36.1      49.8      ⋯ 56.3      0.28 0.23 0.17  0.05 2.35 4.86        1.43\n",
       "  CrsPA PrgP\n",
       "1 0.04  3.94\n",
       "2 0.27  5.21\n",
       "3 0.09  2.04\n",
       "4 0.00  1.45\n",
       "5 0.00  6.40\n",
       "6 0.16  6.53"
      ]
     },
     "metadata": {},
     "output_type": "display_data"
    }
   ],
   "source": [
    "passing <- read.csv('Passing_filtered.csv')\n",
    "head(passing)"
   ]
  },
  {
   "cell_type": "code",
   "execution_count": 29,
   "id": "2c33ab10-f5d0-46a7-a256-c2abe8f66967",
   "metadata": {},
   "outputs": [
    {
     "name": "stdout",
     "output_type": "stream",
     "text": [
      "Rows: 666\n",
      "Columns: 31\n",
      "$ Player      \u001b[3m\u001b[90m<chr>\u001b[39m\u001b[23m \"Salis Abdul Samed\", \"Laurent Abergel\", \"Tammy Abraham\", \"…\n",
      "$ Nation      \u001b[3m\u001b[90m<chr>\u001b[39m\u001b[23m \"gh GHA\", \"fr FRA\", \"eng ENG\", \"sct SCO\", \"us USA\", \"fr FR…\n",
      "$ Pos         \u001b[3m\u001b[90m<chr>\u001b[39m\u001b[23m \"MF\", \"MF\", \"FW\", \"FW\", \"MF\", \"MFFW\", \"MF\", \"FW\", \"MF\", \"M…\n",
      "$ Squad       \u001b[3m\u001b[90m<chr>\u001b[39m\u001b[23m \"Clermont Foot\", \"Lorient\", \"Roma\", \"Southampton\", \"RB Lei…\n",
      "$ Comp        \u001b[3m\u001b[90m<chr>\u001b[39m\u001b[23m \"fr Ligue 1\", \"fr Ligue 1\", \"it Serie A\", \"eng Premier Lea…\n",
      "$ Age         \u001b[3m\u001b[90m<int>\u001b[39m\u001b[23m 21, 28, 23, 25, 22, 21, 19, 27, 22, 28, 30, 23, 17, 30, 26…\n",
      "$ Born        \u001b[3m\u001b[90m<int>\u001b[39m\u001b[23m 2000, 1993, 1997, 1996, 1999, 2000, 2002, 1994, 1999, 1992…\n",
      "$ X90s        \u001b[3m\u001b[90m<dbl>\u001b[39m\u001b[23m 27.4, 32.8, 34.3, 22.7, 15.0, 25.1, 20.8, 30.4, 15.8, 26.1…\n",
      "$ total_cmp   \u001b[3m\u001b[90m<dbl>\u001b[39m\u001b[23m 56.0, 40.9, 14.1, 13.4, 52.9, 36.1, 40.2, 21.5, 25.2, 62.3…\n",
      "$ total_att   \u001b[3m\u001b[90m<dbl>\u001b[39m\u001b[23m 62.1, 50.6, 20.3, 20.8, 61.2, 49.8, 47.9, 29.8, 36.2, 75.5…\n",
      "$ total_cmp.  \u001b[3m\u001b[90m<dbl>\u001b[39m\u001b[23m 90.2, 80.8, 69.7, 64.4, 86.5, 72.4, 83.9, 72.1, 69.6, 82.5…\n",
      "$ TotDist     \u001b[3m\u001b[90m<dbl>\u001b[39m\u001b[23m 931.3, 724.6, 198.8, 184.5, 793.5, 697.4, 721.6, 301.7, 50…\n",
      "$ PrgDist     \u001b[3m\u001b[90m<dbl>\u001b[39m\u001b[23m 199.1, 208.4, 47.3, 44.8, 230.1, 240.9, 217.0, 45.7, 150.9…\n",
      "$ short_cmp   \u001b[3m\u001b[90m<dbl>\u001b[39m\u001b[23m 27.30, 18.50, 8.54, 8.28, 28.30, 16.30, 17.80, 12.70, 10.1…\n",
      "$ short_att   \u001b[3m\u001b[90m<dbl>\u001b[39m\u001b[23m 29.40, 20.70, 11.70, 11.30, 30.70, 19.10, 20.00, 16.60, 12…\n",
      "$ short_cmp.  \u001b[3m\u001b[90m<dbl>\u001b[39m\u001b[23m 92.9, 89.2, 73.1, 73.4, 92.2, 85.4, 89.0, 76.3, 82.4, 90.9…\n",
      "$ medium_cmp  \u001b[3m\u001b[90m<dbl>\u001b[39m\u001b[23m 23.90, 16.30, 3.91, 3.22, 18.50, 12.40, 15.80, 5.66, 8.80,…\n",
      "$ medium_att  \u001b[3m\u001b[90m<dbl>\u001b[39m\u001b[23m 25.50, 18.90, 5.25, 4.67, 20.50, 16.20, 18.10, 7.86, 11.70…\n",
      "$ medium_cmp. \u001b[3m\u001b[90m<dbl>\u001b[39m\u001b[23m 93.7, 86.3, 74.4, 68.9, 90.6, 76.2, 87.0, 72.0, 75.1, 87.6…\n",
      "$ long_cmp    \u001b[3m\u001b[90m<dbl>\u001b[39m\u001b[23m 3.94, 4.63, 0.82, 0.79, 3.27, 6.25, 5.38, 1.41, 5.19, 4.41…\n",
      "$ long_att    \u001b[3m\u001b[90m<dbl>\u001b[39m\u001b[23m 4.71, 7.20, 1.14, 1.50, 4.73, 11.10, 6.78, 2.01, 9.05, 9.0…\n",
      "$ long_cmp.   \u001b[3m\u001b[90m<dbl>\u001b[39m\u001b[23m 83.7, 64.4, 71.8, 52.9, 69.0, 56.3, 79.4, 70.5, 57.3, 48.9…\n",
      "$ Ast         \u001b[3m\u001b[90m<dbl>\u001b[39m\u001b[23m 0.00, 0.06, 0.12, 0.13, 0.07, 0.28, 0.00, 0.26, 0.06, 0.34…\n",
      "$ xAG         \u001b[3m\u001b[90m<dbl>\u001b[39m\u001b[23m 0.03, 0.11, 0.14, 0.13, 0.06, 0.23, 0.03, 0.23, 0.07, 0.30…\n",
      "$ xA          \u001b[3m\u001b[90m<dbl>\u001b[39m\u001b[23m 0.03, 0.08, 0.07, 0.07, 0.09, 0.17, 0.03, 0.13, 0.09, 0.26…\n",
      "$ A.xAG       \u001b[3m\u001b[90m<dbl>\u001b[39m\u001b[23m -0.03, -0.05, -0.02, 0.00, 0.01, 0.05, -0.03, 0.03, -0.01,…\n",
      "$ KP          \u001b[3m\u001b[90m<dbl>\u001b[39m\u001b[23m 0.62, 1.07, 1.11, 1.15, 0.47, 2.35, 0.63, 1.51, 0.89, 2.49…\n",
      "$ final_third \u001b[3m\u001b[90m<dbl>\u001b[39m\u001b[23m 3.18, 4.48, 1.02, 1.06, 5.67, 4.86, 4.13, 0.99, 2.59, 9.00…\n",
      "$ PPA         \u001b[3m\u001b[90m<dbl>\u001b[39m\u001b[23m 0.47, 0.70, 0.79, 0.44, 0.53, 1.43, 0.38, 0.76, 0.44, 1.69…\n",
      "$ CrsPA       \u001b[3m\u001b[90m<dbl>\u001b[39m\u001b[23m 0.04, 0.27, 0.09, 0.00, 0.00, 0.16, 0.00, 0.13, 0.25, 0.19…\n",
      "$ PrgP        \u001b[3m\u001b[90m<dbl>\u001b[39m\u001b[23m 3.94, 5.21, 2.04, 1.45, 6.40, 6.53, 5.58, 2.27, 3.48, 8.54…\n"
     ]
    }
   ],
   "source": [
    "glimpse(passing)"
   ]
  },
  {
   "cell_type": "code",
   "execution_count": 22,
   "id": "a35ba770-6225-430f-a174-321cf3272b5e",
   "metadata": {},
   "outputs": [
    {
     "data": {
      "text/html": [
       "<table class=\"dataframe\">\n",
       "<caption>A data.frame: 6 × 25</caption>\n",
       "<thead>\n",
       "\t<tr><th></th><th scope=col>Player</th><th scope=col>Nation</th><th scope=col>Pos</th><th scope=col>Squad</th><th scope=col>Comp</th><th scope=col>Age</th><th scope=col>Born</th><th scope=col>X90s</th><th scope=col>Gls</th><th scope=col>Sh</th><th scope=col>⋯</th><th scope=col>G.SoT</th><th scope=col>Dist</th><th scope=col>FK</th><th scope=col>PK</th><th scope=col>PKatt</th><th scope=col>xG</th><th scope=col>npxG</th><th scope=col>npxG.Sh</th><th scope=col>G.xG</th><th scope=col>np.G.xG</th></tr>\n",
       "\t<tr><th></th><th scope=col>&lt;chr&gt;</th><th scope=col>&lt;chr&gt;</th><th scope=col>&lt;chr&gt;</th><th scope=col>&lt;chr&gt;</th><th scope=col>&lt;chr&gt;</th><th scope=col>&lt;int&gt;</th><th scope=col>&lt;int&gt;</th><th scope=col>&lt;dbl&gt;</th><th scope=col>&lt;dbl&gt;</th><th scope=col>&lt;dbl&gt;</th><th scope=col>⋯</th><th scope=col>&lt;dbl&gt;</th><th scope=col>&lt;dbl&gt;</th><th scope=col>&lt;dbl&gt;</th><th scope=col>&lt;dbl&gt;</th><th scope=col>&lt;dbl&gt;</th><th scope=col>&lt;dbl&gt;</th><th scope=col>&lt;dbl&gt;</th><th scope=col>&lt;dbl&gt;</th><th scope=col>&lt;dbl&gt;</th><th scope=col>&lt;dbl&gt;</th></tr>\n",
       "</thead>\n",
       "<tbody>\n",
       "\t<tr><th scope=row>661</th><td>DuvÃ¡n Zapata     </td><td>co COL</td><td>FW  </td><td>Atalanta     </td><td>it Serie A        </td><td>30</td><td>1991</td><td>19.1</td><td>0.52</td><td>4.08</td><td>⋯</td><td>0.23</td><td>13.3</td><td>0.00</td><td>0.16</td><td>0.16</td><td>0.71</td><td>0.59</td><td>0.14</td><td>-0.18</td><td>-0.22</td></tr>\n",
       "\t<tr><th scope=row>662</th><td>Piotr ZieliÅ„ski  </td><td>pl POL</td><td>MF  </td><td>Napoli       </td><td>it Serie A        </td><td>27</td><td>1994</td><td>23.2</td><td>0.26</td><td>1.85</td><td>⋯</td><td>0.40</td><td>20.0</td><td>0.04</td><td>0.00</td><td>0.00</td><td>0.15</td><td>0.15</td><td>0.08</td><td> 0.11</td><td> 0.11</td></tr>\n",
       "\t<tr><th scope=row>663</th><td>MartÃ­n Zubimendi </td><td>es ESP</td><td>MF  </td><td>Real Sociedad</td><td>es La Liga        </td><td>22</td><td>1999</td><td>28.8</td><td>0.07</td><td>0.69</td><td>⋯</td><td>0.22</td><td>13.2</td><td>0.00</td><td>0.00</td><td>0.00</td><td>0.08</td><td>0.08</td><td>0.11</td><td>-0.01</td><td>-0.01</td></tr>\n",
       "\t<tr><th scope=row>664</th><td>Szymon Å»urkowski </td><td>pl POL</td><td>MF  </td><td>Empoli       </td><td>it Serie A        </td><td>23</td><td>1997</td><td>25.6</td><td>0.23</td><td>1.84</td><td>⋯</td><td>0.35</td><td>19.2</td><td>0.00</td><td>0.00</td><td>0.00</td><td>0.14</td><td>0.14</td><td>0.08</td><td> 0.09</td><td> 0.09</td></tr>\n",
       "\t<tr><th scope=row>665</th><td>Martin Ã˜degaard  </td><td>no NOR</td><td>MFFW</td><td>Arsenal      </td><td>eng Premier League</td><td>22</td><td>1998</td><td>30.9</td><td>0.23</td><td>1.72</td><td>⋯</td><td>0.33</td><td>21.0</td><td>0.39</td><td>0.00</td><td>0.00</td><td>0.16</td><td>0.16</td><td>0.09</td><td> 0.07</td><td> 0.07</td></tr>\n",
       "\t<tr><th scope=row>666</th><td>Milan ÄuriÄ‡</td><td>ba BIH</td><td>FW  </td><td>Salernitana  </td><td>it Serie A        </td><td>31</td><td>1990</td><td>24.1</td><td>0.21</td><td>2.03</td><td>⋯</td><td>0.27</td><td>11.1</td><td>0.00</td><td>0.04</td><td>0.04</td><td>0.22</td><td>0.19</td><td>0.09</td><td>-0.01</td><td>-0.02</td></tr>\n",
       "</tbody>\n",
       "</table>\n"
      ],
      "text/latex": [
       "A data.frame: 6 × 25\n",
       "\\begin{tabular}{r|lllllllllllllllllllll}\n",
       "  & Player & Nation & Pos & Squad & Comp & Age & Born & X90s & Gls & Sh & ⋯ & G.SoT & Dist & FK & PK & PKatt & xG & npxG & npxG.Sh & G.xG & np.G.xG\\\\\n",
       "  & <chr> & <chr> & <chr> & <chr> & <chr> & <int> & <int> & <dbl> & <dbl> & <dbl> & ⋯ & <dbl> & <dbl> & <dbl> & <dbl> & <dbl> & <dbl> & <dbl> & <dbl> & <dbl> & <dbl>\\\\\n",
       "\\hline\n",
       "\t661 & DuvÃ¡n Zapata      & co COL & FW   & Atalanta      & it Serie A         & 30 & 1991 & 19.1 & 0.52 & 4.08 & ⋯ & 0.23 & 13.3 & 0.00 & 0.16 & 0.16 & 0.71 & 0.59 & 0.14 & -0.18 & -0.22\\\\\n",
       "\t662 & Piotr ZieliÅ„ski   & pl POL & MF   & Napoli        & it Serie A         & 27 & 1994 & 23.2 & 0.26 & 1.85 & ⋯ & 0.40 & 20.0 & 0.04 & 0.00 & 0.00 & 0.15 & 0.15 & 0.08 &  0.11 &  0.11\\\\\n",
       "\t663 & MartÃ­n Zubimendi  & es ESP & MF   & Real Sociedad & es La Liga         & 22 & 1999 & 28.8 & 0.07 & 0.69 & ⋯ & 0.22 & 13.2 & 0.00 & 0.00 & 0.00 & 0.08 & 0.08 & 0.11 & -0.01 & -0.01\\\\\n",
       "\t664 & Szymon Å»urkowski  & pl POL & MF   & Empoli        & it Serie A         & 23 & 1997 & 25.6 & 0.23 & 1.84 & ⋯ & 0.35 & 19.2 & 0.00 & 0.00 & 0.00 & 0.14 & 0.14 & 0.08 &  0.09 &  0.09\\\\\n",
       "\t665 & Martin Ã˜degaard   & no NOR & MFFW & Arsenal       & eng Premier League & 22 & 1998 & 30.9 & 0.23 & 1.72 & ⋯ & 0.33 & 21.0 & 0.39 & 0.00 & 0.00 & 0.16 & 0.16 & 0.09 &  0.07 &  0.07\\\\\n",
       "\t666 & Milan ÄuriÄ‡ & ba BIH & FW   & Salernitana   & it Serie A         & 31 & 1990 & 24.1 & 0.21 & 2.03 & ⋯ & 0.27 & 11.1 & 0.00 & 0.04 & 0.04 & 0.22 & 0.19 & 0.09 & -0.01 & -0.02\\\\\n",
       "\\end{tabular}\n"
      ],
      "text/markdown": [
       "\n",
       "A data.frame: 6 × 25\n",
       "\n",
       "| <!--/--> | Player &lt;chr&gt; | Nation &lt;chr&gt; | Pos &lt;chr&gt; | Squad &lt;chr&gt; | Comp &lt;chr&gt; | Age &lt;int&gt; | Born &lt;int&gt; | X90s &lt;dbl&gt; | Gls &lt;dbl&gt; | Sh &lt;dbl&gt; | ⋯ ⋯ | G.SoT &lt;dbl&gt; | Dist &lt;dbl&gt; | FK &lt;dbl&gt; | PK &lt;dbl&gt; | PKatt &lt;dbl&gt; | xG &lt;dbl&gt; | npxG &lt;dbl&gt; | npxG.Sh &lt;dbl&gt; | G.xG &lt;dbl&gt; | np.G.xG &lt;dbl&gt; |\n",
       "|---|---|---|---|---|---|---|---|---|---|---|---|---|---|---|---|---|---|---|---|---|---|\n",
       "| 661 | DuvÃ¡n Zapata      | co COL | FW   | Atalanta      | it Serie A         | 30 | 1991 | 19.1 | 0.52 | 4.08 | ⋯ | 0.23 | 13.3 | 0.00 | 0.16 | 0.16 | 0.71 | 0.59 | 0.14 | -0.18 | -0.22 |\n",
       "| 662 | Piotr ZieliÅ„ski   | pl POL | MF   | Napoli        | it Serie A         | 27 | 1994 | 23.2 | 0.26 | 1.85 | ⋯ | 0.40 | 20.0 | 0.04 | 0.00 | 0.00 | 0.15 | 0.15 | 0.08 |  0.11 |  0.11 |\n",
       "| 663 | MartÃ­n Zubimendi  | es ESP | MF   | Real Sociedad | es La Liga         | 22 | 1999 | 28.8 | 0.07 | 0.69 | ⋯ | 0.22 | 13.2 | 0.00 | 0.00 | 0.00 | 0.08 | 0.08 | 0.11 | -0.01 | -0.01 |\n",
       "| 664 | Szymon Å»urkowski  | pl POL | MF   | Empoli        | it Serie A         | 23 | 1997 | 25.6 | 0.23 | 1.84 | ⋯ | 0.35 | 19.2 | 0.00 | 0.00 | 0.00 | 0.14 | 0.14 | 0.08 |  0.09 |  0.09 |\n",
       "| 665 | Martin Ã˜degaard   | no NOR | MFFW | Arsenal       | eng Premier League | 22 | 1998 | 30.9 | 0.23 | 1.72 | ⋯ | 0.33 | 21.0 | 0.39 | 0.00 | 0.00 | 0.16 | 0.16 | 0.09 |  0.07 |  0.07 |\n",
       "| 666 | Milan ÄuriÄ‡ | ba BIH | FW   | Salernitana   | it Serie A         | 31 | 1990 | 24.1 | 0.21 | 2.03 | ⋯ | 0.27 | 11.1 | 0.00 | 0.04 | 0.04 | 0.22 | 0.19 | 0.09 | -0.01 | -0.02 |\n",
       "\n"
      ],
      "text/plain": [
       "    Player             Nation Pos  Squad         Comp               Age Born\n",
       "661 DuvÃ¡n Zapata      co COL FW   Atalanta      it Serie A         30  1991\n",
       "662 Piotr ZieliÅ„ski   pl POL MF   Napoli        it Serie A         27  1994\n",
       "663 MartÃ­n Zubimendi  es ESP MF   Real Sociedad es La Liga         22  1999\n",
       "664 Szymon Å»urkowski  pl POL MF   Empoli        it Serie A         23  1997\n",
       "665 Martin Ã˜degaard   no NOR MFFW Arsenal       eng Premier League 22  1998\n",
       "666 Milan Ä\\u0090uriÄ‡ ba BIH FW   Salernitana   it Serie A         31  1990\n",
       "    X90s Gls  Sh   ⋯ G.SoT Dist FK   PK   PKatt xG   npxG npxG.Sh G.xG  np.G.xG\n",
       "661 19.1 0.52 4.08 ⋯ 0.23  13.3 0.00 0.16 0.16  0.71 0.59 0.14    -0.18 -0.22  \n",
       "662 23.2 0.26 1.85 ⋯ 0.40  20.0 0.04 0.00 0.00  0.15 0.15 0.08     0.11  0.11  \n",
       "663 28.8 0.07 0.69 ⋯ 0.22  13.2 0.00 0.00 0.00  0.08 0.08 0.11    -0.01 -0.01  \n",
       "664 25.6 0.23 1.84 ⋯ 0.35  19.2 0.00 0.00 0.00  0.14 0.14 0.08     0.09  0.09  \n",
       "665 30.9 0.23 1.72 ⋯ 0.33  21.0 0.39 0.00 0.00  0.16 0.16 0.09     0.07  0.07  \n",
       "666 24.1 0.21 2.03 ⋯ 0.27  11.1 0.00 0.04 0.04  0.22 0.19 0.09    -0.01 -0.02  "
      ]
     },
     "metadata": {},
     "output_type": "display_data"
    }
   ],
   "source": [
    "shooting <- read.csv('Shooting_filtered.csv')\n",
    "tail(shooting)"
   ]
  },
  {
   "cell_type": "code",
   "execution_count": 28,
   "id": "1302f526-e9fc-4959-b510-8c906120c90e",
   "metadata": {},
   "outputs": [
    {
     "name": "stdout",
     "output_type": "stream",
     "text": [
      "Rows: 666\n",
      "Columns: 25\n",
      "$ Player  \u001b[3m\u001b[90m<chr>\u001b[39m\u001b[23m \"Salis Abdul Samed\", \"Laurent Abergel\", \"Tammy Abraham\", \"Che …\n",
      "$ Nation  \u001b[3m\u001b[90m<chr>\u001b[39m\u001b[23m \"gh GHA\", \"fr FRA\", \"eng ENG\", \"sct SCO\", \"us USA\", \"fr FRA\", …\n",
      "$ Pos     \u001b[3m\u001b[90m<chr>\u001b[39m\u001b[23m \"MF\", \"MF\", \"FW\", \"FW\", \"MF\", \"MFFW\", \"MF\", \"FW\", \"MF\", \"MF\", …\n",
      "$ Squad   \u001b[3m\u001b[90m<chr>\u001b[39m\u001b[23m \"Clermont Foot\", \"Lorient\", \"Roma\", \"Southampton\", \"RB Leipzig…\n",
      "$ Comp    \u001b[3m\u001b[90m<chr>\u001b[39m\u001b[23m \"fr Ligue 1\", \"fr Ligue 1\", \"it Serie A\", \"eng Premier League\"…\n",
      "$ Age     \u001b[3m\u001b[90m<int>\u001b[39m\u001b[23m 21, 28, 23, 25, 22, 21, 19, 27, 22, 28, 30, 23, 17, 30, 26, 27…\n",
      "$ Born    \u001b[3m\u001b[90m<int>\u001b[39m\u001b[23m 2000, 1993, 1997, 1996, 1999, 2000, 2002, 1994, 1999, 1992, 19…\n",
      "$ X90s    \u001b[3m\u001b[90m<dbl>\u001b[39m\u001b[23m 27.4, 32.8, 34.3, 22.7, 15.0, 25.1, 20.8, 30.4, 15.8, 26.1, 17…\n",
      "$ Gls     \u001b[3m\u001b[90m<dbl>\u001b[39m\u001b[23m 0.04, 0.00, 0.50, 0.31, 0.00, 0.04, 0.00, 0.39, 0.00, 0.19, 0.…\n",
      "$ Sh      \u001b[3m\u001b[90m<dbl>\u001b[39m\u001b[23m 0.66, 0.88, 2.68, 2.16, 0.13, 1.27, 0.72, 1.84, 0.95, 1.80, 1.…\n",
      "$ SoT     \u001b[3m\u001b[90m<dbl>\u001b[39m\u001b[23m 0.18, 0.21, 1.02, 1.06, 0.00, 0.60, 0.05, 0.79, 0.13, 0.61, 0.…\n",
      "$ SoT.    \u001b[3m\u001b[90m<dbl>\u001b[39m\u001b[23m 27.8, 24.1, 38.0, 49.0, 0.0, 46.9, 6.7, 42.9, 13.3, 34.0, 24.0…\n",
      "$ Sh.90   \u001b[3m\u001b[90m<dbl>\u001b[39m\u001b[23m 0.66, 0.88, 2.68, 2.16, 0.13, 1.27, 0.72, 1.84, 0.95, 1.80, 1.…\n",
      "$ SoT.90  \u001b[3m\u001b[90m<dbl>\u001b[39m\u001b[23m 0.18, 0.21, 1.02, 1.06, 0.00, 0.60, 0.05, 0.79, 0.13, 0.61, 0.…\n",
      "$ G.Sh    \u001b[3m\u001b[90m<dbl>\u001b[39m\u001b[23m 0.06, 0.00, 0.15, 0.14, 0.00, 0.03, 0.00, 0.16, 0.00, 0.11, 0.…\n",
      "$ G.SoT   \u001b[3m\u001b[90m<dbl>\u001b[39m\u001b[23m 0.20, 0.00, 0.40, 0.29, NA, 0.07, 0.00, 0.38, 0.00, 0.31, 0.17…\n",
      "$ Dist    \u001b[3m\u001b[90m<dbl>\u001b[39m\u001b[23m 21.5, 24.2, 12.9, 13.3, 21.6, 21.2, 11.9, 13.5, 24.1, 21.0, 19…\n",
      "$ FK      \u001b[3m\u001b[90m<dbl>\u001b[39m\u001b[23m 0.00, 0.00, 0.09, 0.00, 0.00, 0.16, 0.00, 0.00, 0.00, 0.08, 0.…\n",
      "$ PK      \u001b[3m\u001b[90m<dbl>\u001b[39m\u001b[23m 0.00, 0.00, 0.09, 0.00, 0.00, 0.00, 0.00, 0.10, 0.00, 0.00, 0.…\n",
      "$ PKatt   \u001b[3m\u001b[90m<dbl>\u001b[39m\u001b[23m 0.00, 0.00, 0.09, 0.00, 0.00, 0.00, 0.00, 0.10, 0.00, 0.00, 0.…\n",
      "$ xG      \u001b[3m\u001b[90m<dbl>\u001b[39m\u001b[23m 0.03, 0.05, 0.60, 0.31, 0.01, 0.08, 0.06, 0.35, 0.07, 0.13, 0.…\n",
      "$ npxG    \u001b[3m\u001b[90m<dbl>\u001b[39m\u001b[23m 0.03, 0.05, 0.54, 0.31, 0.01, 0.08, 0.05, 0.27, 0.07, 0.13, 0.…\n",
      "$ npxG.Sh \u001b[3m\u001b[90m<dbl>\u001b[39m\u001b[23m 0.04, 0.05, 0.20, 0.15, 0.08, 0.06, 0.07, 0.15, 0.07, 0.07, 0.…\n",
      "$ G.xG    \u001b[3m\u001b[90m<dbl>\u001b[39m\u001b[23m 0.01, -0.05, -0.11, 0.00, -0.01, -0.04, -0.06, 0.05, -0.07, 0.…\n",
      "$ np.G.xG \u001b[3m\u001b[90m<dbl>\u001b[39m\u001b[23m 0.01, -0.05, -0.13, 0.00, -0.01, -0.04, -0.05, 0.02, -0.07, 0.…\n"
     ]
    }
   ],
   "source": [
    "glimpse(shooting)"
   ]
  },
  {
   "cell_type": "markdown",
   "id": "7845c60e-c628-4c55-b24d-d3a80374a139",
   "metadata": {},
   "source": [
    "#### Approaches"
   ]
  },
  {
   "cell_type": "markdown",
   "id": "3276f82c-b830-4811-bff6-3637e1caa033",
   "metadata": {},
   "source": [
    "In the case of both datasets, all data is normalized by 90 minutes. Meaning, all count variables such as goals, shots etc. are on a per 90 basis as opposed to being on a regular scale. In the first dataset, the target variable will either be assists per 90 or expected assists per 90. In the second, the target variable will either be goals per 90 or expected goals per 90. Here are some helpful definitions:\n",
    "\n",
    "- Expected Goals (xG) is a metric that estimates the probability of a given shot resulting in a goal based on various factors like shot angle, distance from goal etc.\n",
    "- Expected Assists (xA) estimates the likelihood that a given pass will become an assist, based on factors like pass location, type, and receiving player's position.\n",
    "\n",
    "In our datasets, xG and xA per 90 represent the sum of the probability values assigned to each shot/pass made by the player over the course of 90 minutes. In the frequentist approach, the model is unlikely to be very different depending on which target variable is chosen.\n",
    "\n",
    "To build the frequentist model, we look to identify sources of multicollinearity (which are very likely to be present in both datasets). Given the large number of predictor variables, reducing the number would help prevent overfitting on the data. Stepwise forward selection can be used to identify the best set of predictor variables to use for the model. \n",
    "\n",
    "I am looking to explore the different Bayesian models that can be built for this data. We can use the Poisson distribution for modeling goals and assists per 90 minutes if the the mean and variance of these counts are roughly equal. If there's evidence of overdispersion, the Negative Binomial distribution is a better choice as it can handle the extra variability. Given that some players have very low (sometimes 0) goals and assists per 90, this can end up making the poisson distribution unsuitable. We can determine the more suitable prior distribution after carrying out the exploratory data analysis.\n",
    "\n",
    "For xG and xA, which are continuous rather than count variables and represent aggregated probabilities rather than counts, we can use a normal distribution as the model's likelihood. This can be suitable given that the data is normalized per 90 minutes and may approximate a normal distribution in the variability and mean."
   ]
  }
 ],
 "metadata": {
  "kernelspec": {
   "display_name": "R",
   "language": "R",
   "name": "ir"
  },
  "language_info": {
   "codemirror_mode": "r",
   "file_extension": ".r",
   "mimetype": "text/x-r-source",
   "name": "R",
   "pygments_lexer": "r",
   "version": "4.3.1"
  }
 },
 "nbformat": 4,
 "nbformat_minor": 5
}
