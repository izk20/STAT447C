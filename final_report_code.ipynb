{
 "cells": [
  {
   "cell_type": "code",
   "execution_count": 1,
   "id": "2f2c5d78-46cc-41bf-9a2d-9c0716778e6d",
   "metadata": {},
   "outputs": [
    {
     "name": "stderr",
     "output_type": "stream",
     "text": [
      "Warning message:\n",
      "\"package 'tidyverse' was built under R version 4.3.2\"\n",
      "Warning message:\n",
      "\"package 'ggplot2' was built under R version 4.3.3\"\n",
      "Warning message:\n",
      "\"package 'tibble' was built under R version 4.3.2\"\n",
      "Warning message:\n",
      "\"package 'tidyr' was built under R version 4.3.2\"\n",
      "Warning message:\n",
      "\"package 'readr' was built under R version 4.3.2\"\n",
      "Warning message:\n",
      "\"package 'dplyr' was built under R version 4.3.2\"\n",
      "Warning message:\n",
      "\"package 'stringr' was built under R version 4.3.2\"\n",
      "Warning message:\n",
      "\"package 'forcats' was built under R version 4.3.2\"\n",
      "Warning message:\n",
      "\"package 'lubridate' was built under R version 4.3.2\"\n",
      "Warning message:\n",
      "\"package 'caret' was built under R version 4.3.3\"\n",
      "Warning message:\n",
      "\"package 'MASS' was built under R version 4.3.3\"\n",
      "Warning message:\n",
      "\"package 'car' was built under R version 4.3.3\"\n",
      "Warning message:\n",
      "\"package 'carData' was built under R version 4.3.3\"\n",
      "Warning message:\n",
      "\"package 'glmnet' was built under R version 4.3.3\"\n",
      "Warning message:\n",
      "\"package 'Matrix' was built under R version 4.3.3\"\n",
      "Warning message:\n",
      "\"package 'Metrics' was built under R version 4.3.3\"\n",
      "Warning message:\n",
      "\"package 'rstanarm' was built under R version 4.3.3\"\n",
      "Warning message:\n",
      "\"package 'Rcpp' was built under R version 4.3.2\"\n",
      "Warning message:\n",
      "\"package 'bayesplot' was built under R version 4.3.3\"\n"
     ]
    }
   ],
   "source": [
    "suppressMessages(library(tidyverse))\n",
    "suppressMessages(library(caret))\n",
    "suppressMessages(library(MASS))\n",
    "suppressMessages(library(car))\n",
    "suppressMessages(library(dplyr))\n",
    "suppressMessages(library(glmnet))\n",
    "suppressMessages(library(Metrics))\n",
    "suppressMessages(library(rstanarm))\n",
    "suppressMessages(library(bayesplot))"
   ]
  },
  {
   "cell_type": "code",
   "execution_count": 2,
   "id": "57f753b6-2573-436f-8893-c836a60eceaf",
   "metadata": {},
   "outputs": [],
   "source": [
    "shooting <- read.csv('Shooting_filtered.csv')\n",
    "shooting <- na.omit(shooting)\n",
    "shooting <- filter(shooting, Gls != 0)\n",
    "shooting <- mutate(shooting, Gls = 1/Gls)"
   ]
  },
  {
   "cell_type": "code",
   "execution_count": 3,
   "id": "f55c8c18-76af-4388-bb8f-ba8e5708c419",
   "metadata": {},
   "outputs": [],
   "source": [
    "shooting <- filter(shooting, Sh >= 1)\n",
    "shooting <- dplyr::select(shooting, -Sh.90, -SoT.90)"
   ]
  },
  {
   "cell_type": "code",
   "execution_count": 4,
   "id": "6f6e9f6f-bb6c-4340-a3cb-30637ffa9f6f",
   "metadata": {
    "scrolled": true
   },
   "outputs": [
    {
     "name": "stdout",
     "output_type": "stream",
     "text": [
      "12 x 1 sparse Matrix of class \"dgCMatrix\"\n",
      "                      s0\n",
      "(Intercept)  44.13758355\n",
      "Age          -0.00447756\n",
      "X90s          0.01352868\n",
      "Sh          -10.24073114\n",
      "SoT          21.20472329\n",
      "SoT.         -0.75743346\n",
      "G.Sh         41.02912167\n",
      "G.SoT       -38.32007428\n",
      "Dist          0.14531410\n",
      "FK           -3.50906638\n",
      "PK          -19.37676863\n",
      "PKatt         2.70644542\n"
     ]
    },
    {
     "data": {
      "image/png": "[encoded data removed]",
      "text/plain": [
       "plot without title"
      ]
     },
     "metadata": {
      "image/png": {
       "height": 420,
       "width": 420
      }
     },
     "output_type": "display_data"
    }
   ],
   "source": [
    "predictors <- shooting %>%\n",
    "  dplyr::select_if(is.numeric) %>%\n",
    "  dplyr::select(-Gls, -xG, -npxG, -G.xG, -np.G.xG, -npxG.Sh, -Born) %>%\n",
    "  as.matrix()\n",
    "\n",
    "response <- shooting$Gls\n",
    "\n",
    "set.seed(1) # for reproducibility\n",
    "cv.lasso <- cv.glmnet(predictors, response, alpha = 1)\n",
    "\n",
    "lasso.model <- glmnet(predictors, response, alpha = 1, lambda = cv.lasso$lambda.min)\n",
    "\n",
    "print(coef(lasso.model))\n",
    "\n",
    "plot(cv.lasso)"
   ]
  },
  {
   "cell_type": "code",
   "execution_count": 5,
   "id": "89b10cf8-2ad5-4ea9-a409-264f7046260d",
   "metadata": {},
   "outputs": [
    {
     "name": "stdout",
     "output_type": "stream",
     "text": [
      "[1] \"MSE: 11.9492356277438\"\n",
      "[1] \"R-squared: 0.727612105224251\"\n"
     ]
    }
   ],
   "source": [
    "# Prepare the data\n",
    "set.seed(123) # for reproducibility\n",
    "selected_features <- colnames(predictors)\n",
    "index <- createDataPartition(shooting$Gls, p = 0.8, list = FALSE)\n",
    "train_data <- shooting[index, ]\n",
    "test_data <- shooting[-index, ]\n",
    "\n",
    "# Fit the model\n",
    "model <- lm(Gls ~ ., data = train_data[, c(selected_features, 'Gls')])\n",
    "# Predict on the test set\n",
    "predictions <- predict(model, newdata = test_data, type = \"response\")\n",
    "\n",
    "# Evaluate the model\n",
    "mse <- mean((test_data$Gls - predictions)^2)\n",
    "r_squared <- 1 - sum((test_data$Gls - predictions)^2) / sum((test_data$Gls - mean(test_data$Gls))^2)\n",
    "\n",
    "print(paste(\"MSE:\", mse))\n",
    "print(paste(\"R-squared:\", r_squared))\n"
   ]
  },
  {
   "cell_type": "code",
   "execution_count": 6,
   "id": "ba7f1db6-b9a3-4495-9183-0c2208ae4d46",
   "metadata": {
    "scrolled": true
   },
   "outputs": [
    {
     "data": {
      "text/html": [
       "<style>\n",
       ".list-inline {list-style: none; margin:0; padding: 0}\n",
       ".list-inline>li {display: inline-block}\n",
       ".list-inline>li:not(:last-child)::after {content: \"\\00b7\"; padding: 0 .5ex}\n",
       "</style>\n",
       "<ol class=list-inline><li>'Age'</li><li>'X90s'</li><li>'Sh'</li><li>'SoT'</li><li>'SoT.'</li><li>'G.Sh'</li><li>'G.SoT'</li><li>'Dist'</li><li>'FK'</li><li>'PK'</li><li>'PKatt'</li></ol>\n"
      ],
      "text/latex": [
       "\\begin{enumerate*}\n",
       "\\item 'Age'\n",
       "\\item 'X90s'\n",
       "\\item 'Sh'\n",
       "\\item 'SoT'\n",
       "\\item 'SoT.'\n",
       "\\item 'G.Sh'\n",
       "\\item 'G.SoT'\n",
       "\\item 'Dist'\n",
       "\\item 'FK'\n",
       "\\item 'PK'\n",
       "\\item 'PKatt'\n",
       "\\end{enumerate*}\n"
      ],
      "text/markdown": [
       "1. 'Age'\n",
       "2. 'X90s'\n",
       "3. 'Sh'\n",
       "4. 'SoT'\n",
       "5. 'SoT.'\n",
       "6. 'G.Sh'\n",
       "7. 'G.SoT'\n",
       "8. 'Dist'\n",
       "9. 'FK'\n",
       "10. 'PK'\n",
       "11. 'PKatt'\n",
       "\n",
       "\n"
      ],
      "text/plain": [
       " [1] \"Age\"   \"X90s\"  \"Sh\"    \"SoT\"   \"SoT.\"  \"G.Sh\"  \"G.SoT\" \"Dist\"  \"FK\"   \n",
       "[10] \"PK\"    \"PKatt\""
      ]
     },
     "metadata": {},
     "output_type": "display_data"
    }
   ],
   "source": [
    "predictors <- as.data.frame(predictors)\n",
    "\n",
    "colnames(predictors)"
   ]
  },
  {
   "cell_type": "code",
   "execution_count": 7,
   "id": "f7e6e4d8-2ea6-4cf4-b1eb-20ba2bc6bf86",
   "metadata": {},
   "outputs": [
    {
     "data": {
      "text/html": [
       "490"
      ],
      "text/latex": [
       "490"
      ],
      "text/markdown": [
       "490"
      ],
      "text/plain": [
       "[1] 490"
      ]
     },
     "metadata": {},
     "output_type": "display_data"
    }
   ],
   "source": [
    "nrow(shooting)"
   ]
  },
  {
   "cell_type": "code",
   "execution_count": 8,
   "id": "da659da2-f63a-4e73-8e1d-d6fffb0ab0b0",
   "metadata": {},
   "outputs": [
    {
     "data": {
      "text/html": [
       "490"
      ],
      "text/latex": [
       "490"
      ],
      "text/markdown": [
       "490"
      ],
      "text/plain": [
       "[1] 490"
      ]
     },
     "metadata": {},
     "output_type": "display_data"
    }
   ],
   "source": [
    "nrow(predictors)"
   ]
  },
  {
   "cell_type": "code",
   "execution_count": 9,
   "id": "234d8bd4-3aa2-4513-8aff-c2e5c8368785",
   "metadata": {},
   "outputs": [],
   "source": [
    "Normal <- function(mean=0, sd=1) {\n",
    "  Norm(mean, sd^2)\n",
    "}\n"
   ]
  },
  {
   "cell_type": "code",
   "execution_count": 10,
   "id": "c112e6ed-242a-48d9-a563-27173ab97abd",
   "metadata": {
    "scrolled": true
   },
   "outputs": [
    {
     "name": "stdout",
     "output_type": "stream",
     "text": [
      "\n",
      "SAMPLING FOR MODEL 'continuous' NOW (CHAIN 1).\n",
      "Chain 1: \n",
      "Chain 1: Gradient evaluation took 7.8e-05 seconds\n",
      "Chain 1: 1000 transitions using 10 leapfrog steps per transition would take 0.78 seconds.\n",
      "Chain 1: Adjust your expectations accordingly!\n",
      "Chain 1: \n",
      "Chain 1: \n",
      "Chain 1: Iteration:   1 / 1000 [  0%]  (Warmup)\n",
      "Chain 1: Iteration: 100 / 1000 [ 10%]  (Warmup)\n",
      "Chain 1: Iteration: 200 / 1000 [ 20%]  (Warmup)\n",
      "Chain 1: Iteration: 300 / 1000 [ 30%]  (Warmup)\n",
      "Chain 1: Iteration: 400 / 1000 [ 40%]  (Warmup)\n",
      "Chain 1: Iteration: 500 / 1000 [ 50%]  (Warmup)\n",
      "Chain 1: Iteration: 501 / 1000 [ 50%]  (Sampling)\n",
      "Chain 1: Iteration: 600 / 1000 [ 60%]  (Sampling)\n",
      "Chain 1: Iteration: 700 / 1000 [ 70%]  (Sampling)\n",
      "Chain 1: Iteration: 800 / 1000 [ 80%]  (Sampling)\n",
      "Chain 1: Iteration: 900 / 1000 [ 90%]  (Sampling)\n",
      "Chain 1: Iteration: 1000 / 1000 [100%]  (Sampling)\n",
      "Chain 1: \n",
      "Chain 1:  Elapsed Time: 5.161 seconds (Warm-up)\n",
      "Chain 1:                2.397 seconds (Sampling)\n",
      "Chain 1:                7.558 seconds (Total)\n",
      "Chain 1: \n",
      "\n",
      "SAMPLING FOR MODEL 'continuous' NOW (CHAIN 2).\n",
      "Chain 2: \n",
      "Chain 2: Gradient evaluation took 3.1e-05 seconds\n",
      "Chain 2: 1000 transitions using 10 leapfrog steps per transition would take 0.31 seconds.\n",
      "Chain 2: Adjust your expectations accordingly!\n",
      "Chain 2: \n",
      "Chain 2: \n",
      "Chain 2: Iteration:   1 / 1000 [  0%]  (Warmup)\n",
      "Chain 2: Iteration: 100 / 1000 [ 10%]  (Warmup)\n",
      "Chain 2: Iteration: 200 / 1000 [ 20%]  (Warmup)\n",
      "Chain 2: Iteration: 300 / 1000 [ 30%]  (Warmup)\n",
      "Chain 2: Iteration: 400 / 1000 [ 40%]  (Warmup)\n",
      "Chain 2: Iteration: 500 / 1000 [ 50%]  (Warmup)\n",
      "Chain 2: Iteration: 501 / 1000 [ 50%]  (Sampling)\n",
      "Chain 2: Iteration: 600 / 1000 [ 60%]  (Sampling)\n",
      "Chain 2: Iteration: 700 / 1000 [ 70%]  (Sampling)\n",
      "Chain 2: Iteration: 800 / 1000 [ 80%]  (Sampling)\n",
      "Chain 2: Iteration: 900 / 1000 [ 90%]  (Sampling)\n",
      "Chain 2: Iteration: 1000 / 1000 [100%]  (Sampling)\n",
      "Chain 2: \n",
      "Chain 2:  Elapsed Time: 3.955 seconds (Warm-up)\n",
      "Chain 2:                2.538 seconds (Sampling)\n",
      "Chain 2:                6.493 seconds (Total)\n",
      "Chain 2: \n",
      "\n",
      "SAMPLING FOR MODEL 'continuous' NOW (CHAIN 3).\n",
      "Chain 3: \n",
      "Chain 3: Gradient evaluation took 3.6e-05 seconds\n",
      "Chain 3: 1000 transitions using 10 leapfrog steps per transition would take 0.36 seconds.\n",
      "Chain 3: Adjust your expectations accordingly!\n",
      "Chain 3: \n",
      "Chain 3: \n",
      "Chain 3: Iteration:   1 / 1000 [  0%]  (Warmup)\n",
      "Chain 3: Iteration: 100 / 1000 [ 10%]  (Warmup)\n",
      "Chain 3: Iteration: 200 / 1000 [ 20%]  (Warmup)\n",
      "Chain 3: Iteration: 300 / 1000 [ 30%]  (Warmup)\n",
      "Chain 3: Iteration: 400 / 1000 [ 40%]  (Warmup)\n",
      "Chain 3: Iteration: 500 / 1000 [ 50%]  (Warmup)\n",
      "Chain 3: Iteration: 501 / 1000 [ 50%]  (Sampling)\n",
      "Chain 3: Iteration: 600 / 1000 [ 60%]  (Sampling)\n",
      "Chain 3: Iteration: 700 / 1000 [ 70%]  (Sampling)\n",
      "Chain 3: Iteration: 800 / 1000 [ 80%]  (Sampling)\n",
      "Chain 3: Iteration: 900 / 1000 [ 90%]  (Sampling)\n",
      "Chain 3: Iteration: 1000 / 1000 [100%]  (Sampling)\n",
      "Chain 3: \n",
      "Chain 3:  Elapsed Time: 10.503 seconds (Warm-up)\n",
      "Chain 3:                1.93 seconds (Sampling)\n",
      "Chain 3:                12.433 seconds (Total)\n",
      "Chain 3: \n",
      "\n",
      "SAMPLING FOR MODEL 'continuous' NOW (CHAIN 4).\n",
      "Chain 4: \n",
      "Chain 4: Gradient evaluation took 2.8e-05 seconds\n",
      "Chain 4: 1000 transitions using 10 leapfrog steps per transition would take 0.28 seconds.\n",
      "Chain 4: Adjust your expectations accordingly!\n",
      "Chain 4: \n",
      "Chain 4: \n",
      "Chain 4: Iteration:   1 / 1000 [  0%]  (Warmup)\n",
      "Chain 4: Iteration: 100 / 1000 [ 10%]  (Warmup)\n",
      "Chain 4: Iteration: 200 / 1000 [ 20%]  (Warmup)\n",
      "Chain 4: Iteration: 300 / 1000 [ 30%]  (Warmup)\n",
      "Chain 4: Iteration: 400 / 1000 [ 40%]  (Warmup)\n",
      "Chain 4: Iteration: 500 / 1000 [ 50%]  (Warmup)\n",
      "Chain 4: Iteration: 501 / 1000 [ 50%]  (Sampling)\n",
      "Chain 4: Iteration: 600 / 1000 [ 60%]  (Sampling)\n",
      "Chain 4: Iteration: 700 / 1000 [ 70%]  (Sampling)\n",
      "Chain 4: Iteration: 800 / 1000 [ 80%]  (Sampling)\n",
      "Chain 4: Iteration: 900 / 1000 [ 90%]  (Sampling)\n",
      "Chain 4: Iteration: 1000 / 1000 [100%]  (Sampling)\n",
      "Chain 4: \n",
      "Chain 4:  Elapsed Time: 7.034 seconds (Warm-up)\n",
      "Chain 4:                1.674 seconds (Sampling)\n",
      "Chain 4:                8.708 seconds (Total)\n",
      "Chain 4: \n"
     ]
    },
    {
     "data": {
      "text/plain": [
       "\n",
       "Model Info:\n",
       " function:     stan_glm\n",
       " family:       Gamma [inverse]\n",
       " formula:      Gls ~ Age + X90s + Sh + SoT + SoT. + PK + PKatt + FK + X90s + \n",
       "\t   Dist\n",
       " algorithm:    sampling\n",
       " sample:       2000 (posterior sample size)\n",
       " priors:       see help('prior_summary')\n",
       " observations: 393\n",
       " predictors:   10\n",
       "\n",
       "Estimates:\n",
       "              mean   sd   10%   50%   90%\n",
       "(Intercept)  0.4    0.0  0.3   0.4   0.4 \n",
       "Age          0.0    0.0  0.0   0.0   0.0 \n",
       "X90s         0.0    0.0  0.0   0.0   0.0 \n",
       "Sh          -0.1    0.0 -0.1  -0.1  -0.1 \n",
       "SoT          0.6    0.1  0.5   0.6   0.6 \n",
       "SoT.         0.0    0.0  0.0   0.0   0.0 \n",
       "PK           1.1    0.3  0.7   1.1   1.5 \n",
       "PKatt        0.1    0.3 -0.2   0.1   0.4 \n",
       "FK           0.0    0.0  0.0   0.0   0.0 \n",
       "Dist         0.0    0.0  0.0   0.0   0.0 \n",
       "shape        4.7    0.3  4.3   4.7   5.1 \n",
       "\n",
       "Fit Diagnostics:\n",
       "           mean   sd   10%   50%   90%\n",
       "mean_PPD 6.7    0.3  6.4   6.7   7.1  \n",
       "\n",
       "The mean_ppd is the sample average posterior predictive distribution of the outcome variable (for details see help('summary.stanreg')).\n",
       "\n",
       "MCMC diagnostics\n",
       "              mcse Rhat n_eff\n",
       "(Intercept)   0.0  1.0  1090 \n",
       "Age           0.0  1.0  2167 \n",
       "X90s          0.0  1.0  2269 \n",
       "Sh            0.0  1.0   630 \n",
       "SoT           0.0  1.0   650 \n",
       "SoT.          0.0  1.0   659 \n",
       "PK            0.0  1.0   687 \n",
       "PKatt         0.0  1.0   733 \n",
       "FK            0.0  1.0  1949 \n",
       "Dist          0.0  1.0  1784 \n",
       "shape         0.0  1.0   947 \n",
       "mean_PPD      0.0  1.0  1966 \n",
       "log-posterior 0.1  1.0   684 \n",
       "\n",
       "For each parameter, mcse is Monte Carlo standard error, n_eff is a crude measure of effective sample size, and Rhat is the potential scale reduction factor on split chains (at convergence Rhat=1)."
      ]
     },
     "metadata": {},
     "output_type": "display_data"
    },
    {
     "name": "stdout",
     "output_type": "stream",
     "text": [
      "            2        5         6        7        8        10        11\n",
      "[1,] 1.752814 4.960047  2.958049 8.274903 4.890009  3.536314  7.540891\n",
      "[2,] 2.365107 9.755359  9.841270 9.788251 6.293939 12.531204 12.194056\n",
      "[3,] 2.045863 8.073940  9.131008 6.136008 3.324036 12.002874 13.441145\n",
      "[4,] 2.248373 5.181431 23.982685 9.740951 3.709924  7.220677  8.791783\n",
      "[5,] 3.239091 2.748298  4.157896 8.336550 5.057834 10.373732 10.312148\n",
      "[6,] 5.019874 5.205270 18.516201 9.129312 5.885755 12.083082  5.438141\n",
      "            12       13       14       16        17       18        20       21\n",
      "[1,]  4.313360 6.299649 4.935697 7.531521  6.740275 2.220198  9.301174 4.878102\n",
      "[2,]  7.002536 6.510690 5.170564 5.739505  6.074372 3.703916  8.185215 7.415506\n",
      "[3,] 11.316443 3.277525 3.510331 2.845848  7.679325 2.283626  6.571410 9.339444\n",
      "[4,] 26.536360 3.162797 6.472134 5.617283  5.501802 2.797643 16.938366 7.454704\n",
      "[5,] 14.009734 1.935617 5.334913 5.738931  6.987148 3.153501 14.428448 1.876266\n",
      "[6,]  5.370149 2.629450 4.102992 4.344632 12.027478 4.460521 12.448650 1.863406\n",
      "            22        23       24        26        27        28       29\n",
      "[1,] 2.4542282 10.914312 2.792028 1.9898629  7.618718 16.605228 2.598076\n",
      "[2,] 1.3892900 10.227248 1.961034 3.0758043  8.330939  7.195727 3.494008\n",
      "[3,] 2.2652731 21.665482 1.689913 1.5651795  4.550922 21.833489 1.945063\n",
      "[4,] 0.4000487  3.080746 2.299210 1.8125387  7.986366 21.112403 2.217396\n",
      "[5,] 3.3695741  9.857546 3.624778 0.7756041 13.268046 21.464625 2.636786\n",
      "[6,] 2.4409817 14.873334 1.796724 1.4841652  8.946255  9.676815 3.283687\n",
      "            30        31       32        34       35       37       38       39\n",
      "[1,] 12.272639 14.955071 2.770234 10.243710 1.458370 1.850971 18.51310 2.659960\n",
      "[2,] 24.358803  5.808351 2.411504 21.703214 3.988325 2.247717 11.62697 1.941451\n",
      "[3,] 10.026328  3.831496 4.399646 19.200190 4.269821 3.362160 21.66970 4.655804\n",
      "[4,]  8.028026  4.987503 2.858798 17.761146 3.495774 2.261847 19.12974 4.306712\n",
      "[5,] 13.752573  9.514666 2.475002  4.810597 3.102388 2.985460 21.48110 2.000612\n",
      "[6,] 19.325660  5.091601 9.690914 20.377947 3.071955 3.623105 30.45481 8.156500\n",
      "           40       41       42        43         44        45        46\n",
      "[1,] 8.125893 4.542542 2.969149  7.159138  0.5040994 1.6422526 0.7216324\n",
      "[2,] 5.260544 4.617861 2.071436  3.357524  6.5089003 0.9419113 1.1578675\n",
      "[3,] 9.105740 5.887831 2.480710 12.591981  7.6252402 2.7825893 1.1789271\n",
      "[4,] 8.238669 6.429994 1.150723 10.306906  7.3091944 1.1272382 1.7540027\n",
      "[5,] 5.774462 3.335813 3.934187  9.138493 16.9581570 2.1394279 1.4011919\n",
      "[6,] 5.123742 7.965659 2.847738 17.075814  4.4036372 1.3895889 1.3428575\n",
      "           47        50        51        52       53        55        56\n",
      "[1,] 7.107596  6.696921  7.295722  7.720201 2.728328  9.827377  7.277779\n",
      "[2,] 6.404071  3.003142  8.809223 12.580605 2.985192 26.266904  5.082028\n",
      "[3,] 8.419225  3.766679  8.899993 30.277519 4.067747 30.813168  6.705137\n",
      "[4,] 7.696673  6.910730  5.075238 19.907460 3.786851 17.189121 11.534641\n",
      "[5,] 2.010874  6.258150  8.872634 12.336018 3.410714 14.415141  7.500800\n",
      "[6,] 1.873927 10.831416 12.433714 13.147872 1.950481 10.695951 11.302775\n",
      "           57       58        59        60       62        63       64       65\n",
      "[1,] 1.951868 3.896817 2.1326402 13.360098 23.11080  7.670977 2.438795 3.277347\n",
      "[2,] 2.033162 1.916851 1.0316202 16.302522 23.20548 11.863645 2.419669 3.559935\n",
      "[3,] 2.198847 5.906337 4.7189038 15.882347 46.45444  7.633202 5.068514 4.208011\n",
      "[4,] 1.679059 3.399782 0.8630264  6.428202 11.02915  9.411051 3.056393 4.609565\n",
      "[5,] 1.753685 3.945002 4.4300581  9.894315 15.85129  3.994152 3.502646 2.131888\n",
      "[6,] 2.087699 4.839562 2.3084657 11.268338 21.27791 16.515701 7.039369 6.262148\n",
      "            66        67       69        70       72        73        74\n",
      "[1,]  8.557840  4.583887 2.343562 10.481695 1.929809 10.060773  6.983681\n",
      "[2,]  3.099107  3.589799 2.368405  4.739132 5.302906  6.566005  9.176265\n",
      "[3,] 10.687394 10.312198 2.042445  4.470766 4.138238  7.745275  6.305814\n",
      "[4,]  3.295235  4.835062 2.277966 12.041925 6.618086  7.060217  5.145863\n",
      "[5,]  6.203731  5.561640 2.422313  5.636399 3.483735  4.483570 12.611128\n",
      "[6,]  6.292938  8.318495 1.503128  9.875335 3.990332 12.366815  9.101124\n",
      "           75       76        77       79        80        81       84       85\n",
      "[1,] 3.023147 5.319697  6.742046 17.82175  8.721545 12.583131 5.583704 3.998401\n",
      "[2,] 3.356987 4.412841  4.648913 30.63775 13.297282  8.407493 1.560137 3.153869\n",
      "[3,] 3.572577 3.347695  5.322602 18.64159 12.280588 11.109931 2.489749 3.656022\n",
      "[4,] 3.679436 4.534666  8.932859 18.89988  3.289042 18.319950 2.513886 3.125019\n",
      "[5,] 3.197160 6.069773  6.107882 28.78556  4.788545 12.683839 3.272659 1.651298\n",
      "[6,] 4.129621 4.534574 11.312173 21.74871  8.390808 22.212645 2.894088 2.709134\n",
      "           86       87       89       91        92       93        94        96\n",
      "[1,] 4.130232 15.21583 5.480913 16.82792 0.5443340 21.93533 12.923772 0.5566534\n",
      "[2,] 6.672744 17.20311 2.204031 18.30764 1.6544269 16.76541  7.689338 1.4520042\n",
      "[3,] 9.649471 11.54755 9.077811 36.22632 1.8126614 11.14630 15.383107 2.3074270\n",
      "[4,] 7.129038 13.07830 5.752478 13.43958 0.9508498 16.96785  6.593778 4.0642683\n",
      "[5,] 7.937176 22.74795 5.268368 23.30545 0.8599738 14.17450  7.920950 1.5700421\n",
      "[6,] 9.770984 11.72212 6.477479 22.88131 1.2764522 11.48508  8.893016 3.2813213\n",
      "            99       100       101       102      103       104      105\n",
      "[1,] 22.181309 2.1678312 1.3784940 17.301384 4.761601  3.452502 3.226118\n",
      "[2,]  9.878070 0.4456184 0.7348561 16.564783 4.450890  5.871571 3.108479\n",
      "[3,]  9.878496 1.3533166 1.1528358 18.255529 6.659369  4.170599 1.497907\n",
      "[4,] 11.313955 2.5602136 2.1631155 22.947737 5.690932 10.218537 6.095134\n",
      "[5,]  5.655609 0.8524707 1.5355682  7.967596 6.190527  8.226184 5.941165\n",
      "[6,] 11.148430 2.0637362 1.8281085 11.728574 6.973425  4.685210 3.132050\n",
      "          107       108      109       110      111       112       114\n",
      "[1,] 6.390262  3.363873 3.478411  3.402539 1.713484 13.475405  5.522626\n",
      "[2,] 2.345685 11.034512 5.028582  2.787704 2.236918 11.762906  1.751438\n",
      "[3,] 4.191943  8.563624 3.812515  1.857669 1.547704 13.148981  4.480132\n",
      "[4,] 5.331390  3.423367 2.555904  5.463157 1.655258  6.629319  7.675643\n",
      "[5,] 2.257375  2.137114 6.739859 10.676173 1.447852  8.479720  3.319695\n",
      "[6,] 2.525992 11.017180 3.049732 12.719373 1.717209  5.621520 13.680984\n",
      "          115      116       117      118      119       121       122\n",
      "[1,] 5.464110 6.531582 12.760749 4.374121 3.899961 0.5171763 2.6882240\n",
      "[2,] 4.802743 5.591605 10.730081 7.398246 1.838922 1.8830182 0.7282163\n",
      "[3,] 3.103224 5.192698 15.201911 2.562927 3.322273 1.3032235 1.4519999\n",
      "[4,] 2.920332 6.015784 11.606726 5.654592 4.357768 3.5165747 3.4663856\n",
      "[5,] 4.276922 5.217783 10.492242 9.186632 4.278813 3.2084245 3.0564985\n",
      "[6,] 2.469538 6.193134  6.410404 3.670631 4.744990 1.0972435 1.7836261\n",
      "           123      124        125      126      127       129      130\n",
      "[1,]  6.268048 8.580652 11.3376272 3.563986 4.911094 19.239451 3.242201\n",
      "[2,]  9.996199 3.572959  2.1023183 1.778407 3.142209 14.277748 1.629775\n",
      "[3,]  3.587691 4.069944  4.9694025 7.103077 2.866593  2.041218 5.524235\n",
      "[4,] 11.663886 7.100131  7.3389920 2.798030 4.508354  7.928600 4.381344\n",
      "[5,]  7.942281 2.305010  1.5186197 1.924856 3.156938  9.027037 1.816263\n",
      "[6,] 13.302374 8.348038  0.8684784 1.769713 3.660584  2.686815 1.325850\n",
      "          131       132      133      134       135       136       137\n",
      "[1,] 1.695651  6.039686 1.721820 3.389565 10.104768 2.7212158  8.144053\n",
      "[2,] 6.201433  3.628965 4.549561 2.276173 16.027227 2.4528760  6.727609\n",
      "[3,] 8.101355 10.765823 8.004558 6.793168  4.202453 1.7874609  5.647625\n",
      "[4,] 5.348131  5.222415 4.540562 4.391393 12.452974 2.5488186  6.256580\n",
      "[5,] 5.394433  4.374180 2.273279 6.580914 15.116075 0.9265997 11.557281\n",
      "[6,] 4.600492  2.905540 2.126364 5.437171 14.625174 3.4463319  8.271349\n",
      "           138      139       140      141      143      144       146\n",
      "[1,]  4.713212 5.835311  6.397608 7.221440 2.798812 28.35156 12.056418\n",
      "[2,]  8.051509 1.704954  2.147252 8.631607 4.018565 17.30696  3.313936\n",
      "[3,]  7.953783 3.488078  7.438102 3.916017 1.393351 17.83716  8.471770\n",
      "[4,]  5.105606 4.055432 11.716828 5.397418 1.989236 13.74069  4.556449\n",
      "[5,]  6.997336 2.500655  4.040682 2.646043 3.586104 10.93372  4.193807\n",
      "[6,] 11.185756 3.300979  6.775743 7.808395 1.643466 18.88842  6.020680\n",
      "           147      148      149      150      151      152      154       155\n",
      "[1,] 14.291090 7.740126 4.335828 5.999002 2.857893 3.565874 4.786258  6.854311\n",
      "[2,] 16.758191 6.464301 6.284492 9.302442 2.471169 2.850599 9.076631  8.903248\n",
      "[3,] 20.271364 5.026488 9.762581 3.878502 2.368830 3.215142 6.274766  9.733680\n",
      "[4,]  9.246907 8.067577 2.727343 9.874283 3.047258 1.767773 6.528619  7.830533\n",
      "[5,] 13.616903 6.334208 7.170102 5.327987 2.955555 4.207540 6.142576  9.171022\n",
      "[6,] 16.325149 8.192716 8.736923 9.176700 2.479506 3.632314 6.785878 12.331159\n",
      "          156      158      160      161      162       165      166       168\n",
      "[1,] 2.873906 4.246132 6.637512 4.931105 1.147079  9.353363 2.011717 10.841900\n",
      "[2,] 3.057010 2.432859 6.432469 2.969739 1.699420 22.545572 5.329998  6.174300\n",
      "[3,] 1.649403 2.192088 5.681911 5.623611 5.261745 11.176257 2.234560  4.023880\n",
      "[4,] 2.300702 5.893843 7.175175 4.104985 3.777402 16.225936 4.853734  5.172772\n",
      "[5,] 1.008193 7.075362 6.333340 3.895827 1.311513  7.731379 6.428074 11.174433\n",
      "[6,] 3.311293 6.729554 9.140351 4.609698 3.200356 12.024020 4.916703  5.666956\n",
      "          169       170       171      172       173       174      175\n",
      "[1,] 2.142741 16.282856 1.0734324 4.044298 17.812315 11.743831 1.966609\n",
      "[2,] 2.577384 11.277104 1.0493973 1.098893  8.337212  3.348119 4.907075\n",
      "[3,] 1.208594  5.055804 1.5712651 1.479396 11.558886  5.485606 2.294426\n",
      "[4,] 2.272124  3.580998 1.5652561 5.135288  9.284869  3.752123 2.346357\n",
      "[5,] 2.449070 10.072561 0.8274233 5.532638 18.283058  3.972765 2.818718\n",
      "[6,] 2.837811  4.462269 0.8133917 7.144362  8.075441 17.596715 2.322925\n",
      "          176      178      179      180       181      182      184      185\n",
      "[1,] 6.063022 5.301745 5.096186 3.608564  5.021300 6.178393 6.859262 1.437873\n",
      "[2,] 7.883220 5.499688 2.439722 3.943959  7.893838 5.828196 7.079621 4.256733\n",
      "[3,] 4.922818 5.115835 3.837271 2.719713 15.181644 7.729177 3.949508 4.066845\n",
      "[4,] 3.389271 5.433550 1.355180 1.242064  7.306002 3.944306 6.366859 3.110410\n",
      "[5,] 3.483493 2.610479 1.817005 2.306244 12.125818 6.754623 6.532471 5.576499\n",
      "[6,] 1.706771 4.171844 2.059898 2.346779  2.662601 2.984385 8.115644 2.241175\n",
      "          186       187       188      189       190       191       194\n",
      "[1,] 4.227264 1.3276038 0.7692599 3.604402 2.6568628 1.3353235  9.144876\n",
      "[2,] 3.274135 4.3521878 1.4515233 2.882185 1.2264601 0.5823984 12.351795\n",
      "[3,] 1.172860 1.3268543 1.4178663 4.994870 1.1268343 0.5885155 18.201482\n",
      "[4,] 2.885247 3.9404154 0.9809274 3.938109 1.9816240 3.1664376  4.108196\n",
      "[5,] 3.273986 1.0352088 1.8917108 5.221909 0.8086019 0.8439383 13.181539\n",
      "[6,] 5.031458 0.6401414 1.5914455 6.482528 0.7772335 1.6996216 13.757463\n",
      "          195      197      198      199       200      201      203      205\n",
      "[1,] 6.504725 2.513364 1.402033 1.989396  2.576481 2.006296 4.751673 1.231535\n",
      "[2,] 8.188463 7.083964 6.370688 1.124765  6.413937 4.742913 1.205957 1.891447\n",
      "[3,] 3.888777 3.193546 3.571671 4.500202  3.207072 2.400189 3.501491 1.956328\n",
      "[4,] 5.718091 2.616740 3.192624 3.160964 13.407134 3.722582 4.856624 4.945195\n",
      "[5,] 7.664169 3.732003 5.511391 3.215228  4.636820 4.851319 5.205443 2.572152\n",
      "[6,] 5.485798 3.784537 6.684365 3.045250  7.191350 1.833755 2.966173 3.248805\n",
      "          207      208       209      210      211       212      214       215\n",
      "[1,] 4.888406 1.209825 14.407249 8.819046 2.145483  5.562012 3.051238 20.093350\n",
      "[2,] 2.977176 2.843652  3.205231 4.851460 2.112494  5.471488 2.633947  6.676459\n",
      "[3,] 2.090506 1.481752  6.769678 2.124935 1.861124  4.461619 5.138712 15.924126\n",
      "[4,] 1.440318 1.749318  6.348104 2.371648 1.913576  8.628968 4.800689  5.754607\n",
      "[5,] 2.403170 5.179118  8.880852 4.574203 2.861874  5.687826 1.512273  6.076074\n",
      "[6,] 1.346123 3.213075  3.903698 3.493142 2.292201 10.835612 4.469769  7.100057\n",
      "           216       217      218      219      220      221      222      223\n",
      "[1,]  2.652329 12.485216 4.476687 1.946694 3.103344 9.584298 1.015909 2.452705\n",
      "[2,]  9.968453  8.428664 5.187195 4.247187 3.202787 2.663107 1.945753 6.678437\n",
      "[3,] 18.248036  9.469729 5.909489 1.492472 6.683876 5.130951 3.113912 3.747331\n",
      "[4,] 22.108463  5.174208 1.587674 4.880192 5.686376 6.181491 4.794118 3.998029\n",
      "[5,] 14.651248  2.549248 3.385633 5.473961 9.648138 4.198650 1.107591 7.329731\n",
      "[6,]  7.225260  2.167485 5.345769 1.564979 2.786462 2.424629 2.364909 2.123106\n",
      "          224       226      227       232      234      236       238      239\n",
      "[1,] 1.808559 15.955050 20.96180  6.721409 5.700085 4.009609 17.014508 1.940905\n",
      "[2,] 9.063048  6.530859 10.25655 11.023822 1.273314 1.019972  6.615128 2.818172\n",
      "[3,] 4.610251 11.897020 12.05791 23.053488 3.418386 4.954899 23.679850 1.833992\n",
      "[4,] 1.640926 12.866275 21.28394 11.322631 5.324539 1.331111 14.049785 4.965046\n",
      "[5,] 2.793623 21.101745 18.83840 11.107550 4.175747 4.557712  5.646127 2.310103\n",
      "[6,] 3.599655  5.169656 11.20855 17.914175 3.465853 3.496515 19.391011 4.377655\n",
      "          240       241       242       244       245      246       248\n",
      "[1,] 13.07277 10.561892 0.9172787 12.759044 14.606950 4.035920  7.064395\n",
      "[2,] 13.33688  7.684237 0.5595451  3.561775 10.315070 5.650951  6.325211\n",
      "[3,] 28.42330  6.851409 1.3483961  3.874541 15.940675 2.889482 10.883164\n",
      "[4,] 24.12070  6.432941 1.1956871  1.992996  8.385547 3.691354 13.352849\n",
      "[5,] 29.08629 13.656963 1.9346923  2.525999  8.511722 3.551565  7.690624\n",
      "[6,] 17.38992  7.080111 0.4375363  3.724826 22.265462 5.630502 11.643997\n",
      "          249      251       252       253      254       255      256      257\n",
      "[1,] 4.132319 1.870441  2.365145 0.4594587 2.075800  6.944101 2.842361 1.765146\n",
      "[2,] 1.658026 2.761582 18.418977 2.3343960 3.086513  5.910077 3.817463 5.447603\n",
      "[3,] 3.673394 5.019335 10.087810 3.1072404 3.443264  6.396388 7.810900 1.323384\n",
      "[4,] 3.291500 3.285388  9.793687 6.4617902 2.250822  7.480230 2.354864 3.336971\n",
      "[5,] 6.711758 1.528068  8.662854 7.5741612 2.856326 10.012834 5.530177 1.859505\n",
      "[6,] 4.499957 4.052656  5.972167 3.0223362 1.849242  5.179990 6.187067 4.254546\n",
      "           258      259      260       261      263      264      265      266\n",
      "[1,] 11.481385 2.323600 2.507128 11.478118 5.952983 3.613735 3.923535 8.199326\n",
      "[2,] 13.130305 1.162863 5.525977 19.775751 3.020272 3.427395 6.052898 9.695140\n",
      "[3,] 10.161404 2.498029 3.695006  8.534195 4.080550 3.366980 1.082973 6.125386\n",
      "[4,] 25.654540 1.944509 6.959289  9.034018 8.609486 1.602927 1.447862 3.505348\n",
      "[5,] 11.456711 2.118663 5.246337 28.041044 3.287594 1.482542 1.388308 9.556669\n",
      "[6,]  9.688329 1.892645 4.443776 13.090611 3.471027 2.929291 4.731527 5.723164\n",
      "          268       269       270      271       272       275      276\n",
      "[1,] 5.079572 0.9526847 14.167883 11.37438  8.251549  4.414492 2.983405\n",
      "[2,] 3.259539 2.1979044  5.359914 23.14919  4.284023  6.345629 3.646828\n",
      "[3,] 2.584941 1.7654973  8.092303 14.02765 15.242975 12.022191 2.916267\n",
      "[4,] 2.167424 2.5001455  9.016500 13.00450  4.840002 11.658945 3.516014\n",
      "[5,] 9.686699 2.3651860  6.070227 29.49437  5.329842  8.174248 9.936496\n",
      "[6,] 2.245347 1.7580320  5.688759 21.43657  8.241849  8.050340 2.863581\n",
      "          281       282       284       285       286      287       289\n",
      "[1,] 3.136421 1.6091220  5.512752  7.718331 2.7835465 2.734150 3.1938163\n",
      "[2,] 2.981034 2.1079854  3.414330  8.180003 2.9468808 4.918088 3.0247720\n",
      "[3,] 5.051633 2.9305044  4.824095  6.951924 2.7287839 8.008162 4.3124339\n",
      "[4,] 7.155792 1.2977762  2.594994  8.118514 0.4263773 2.737283 2.9183517\n",
      "[5,] 2.062562 3.0992170  5.999364 16.100637 2.6871396 9.967843 0.7995957\n",
      "[6,] 1.773122 0.7214264 12.127833  3.230619 3.4882915 2.976514 1.3106600\n",
      "           290      291       292      293      295       296      297      298\n",
      "[1,]  5.148405 5.293408 0.9423662 2.155624 4.537466 11.033699 1.704493 5.688626\n",
      "[2,]  3.257417 9.478090 1.3348249 1.417297 1.499906  6.413524 5.924936 2.454365\n",
      "[3,] 11.309019 3.222032 6.6621152 4.946126 1.777740  3.564122 4.826865 1.693835\n",
      "[4,]  3.190302 6.992036 3.5546683 1.914568 2.020995  1.938955 3.114443 4.839298\n",
      "[5,]  2.050224 6.655901 3.4596998 1.737133 4.259518  7.979392 6.372333 3.775625\n",
      "[6,]  1.327176 7.790013 3.8288367 3.087289 1.342691  5.754683 1.783548 2.047755\n",
      "          300      301      302      304      305       306      307      310\n",
      "[1,]  4.56050 25.21576 8.629759 4.259569 1.809034  6.599612 8.201604 1.971258\n",
      "[2,] 18.16967 10.43720 6.155331 4.864672 2.402976  8.710720 2.256622 2.650966\n",
      "[3,] 21.46141 13.03892 2.237885 4.480384 2.185472 12.676744 4.341908 1.914007\n",
      "[4,] 38.17558 11.96057 1.090895 5.451703 2.821419  8.317426 3.752575 3.262912\n",
      "[5,] 36.99565 12.30811 1.124738 1.978110 2.082412  4.650584 6.220561 1.898148\n",
      "[6,] 18.03757 17.24676 2.274958 2.901270 4.156199  3.130034 1.293172 3.428521\n",
      "          311       312      313      314      315       316      317       318\n",
      "[1,] 2.682087  5.978108 2.226963 2.754723 8.204362 10.256990 1.065109  3.607712\n",
      "[2,] 1.506230 11.643126 4.460563 4.263345 4.007795 12.081472 1.261266  3.464847\n",
      "[3,] 2.222307 22.467598 3.806956 2.105953 6.682023  5.503969 1.965360 14.429518\n",
      "[4,] 1.282647 17.609824 2.645398 2.414179 7.233829 25.924142 3.381542  7.163317\n",
      "[5,] 3.445338 22.060986 4.444759 4.669674 1.831852 22.827675 3.736281  4.818213\n",
      "[6,] 3.876760 17.255952 5.463621 3.335877 5.124084 16.610019 1.254858  4.621362\n",
      "          319      320      321       322       323       326       327\n",
      "[1,] 6.534670 2.601212 4.693212  8.359205 3.7768757  2.715411  2.643053\n",
      "[2,] 4.507856 4.718793 1.739599 17.193407 4.2985196  6.272978  3.003476\n",
      "[3,] 3.318205 1.502356 3.100091  2.778701 2.6444390  4.693351  8.196736\n",
      "[4,] 1.335455 2.599202 3.470652  4.505194 1.5967305  3.887591 12.575668\n",
      "[5,] 4.133730 1.127217 1.509968  6.971587 0.8137311 11.218940  3.878725\n",
      "[6,] 3.982126 2.991049 1.246841  8.295379 9.2706227  3.559295  4.791792\n",
      "           328       329      330      331      332      333      334      335\n",
      "[1,]  6.568271 13.083172 5.060820 3.707884 1.923190 7.818774 20.30460 5.623943\n",
      "[2,] 12.470240 14.839247 3.101741 3.938514 3.396283 8.635458 33.25706 1.400720\n",
      "[3,] 10.912746 12.740542 4.571843 1.239656 2.713992 3.762723 46.96400 2.202807\n",
      "[4,]  4.361052 12.927577 3.645787 2.935823 3.583958 2.747029 31.55450 1.954694\n",
      "[5,] 12.300087  6.442134 4.673520 2.736233 3.186228 4.580047 31.92927 3.208335\n",
      "[6,] 11.006795 18.481230 2.569042 1.701292 2.004382 4.516379 21.75700 2.975621\n",
      "           336       337      339      340      341      342      343       344\n",
      "[1,] 17.700933  9.654623 3.736781 14.91000 4.395660 3.864852 2.447849  9.165419\n",
      "[2,]  8.539810 10.636145 6.803975  6.71314 1.954975 7.025598 1.563213  2.471110\n",
      "[3,] 11.078298 20.243850 3.306563 20.83342 2.384961 3.585554 3.042667  6.018820\n",
      "[4,]  7.551512 10.400936 3.835339 25.31116 2.939276 3.527826 1.108730 19.693177\n",
      "[5,]  2.944507  8.824346 8.488864 10.20134 5.915664 5.052687 2.330252 12.451492\n",
      "[6,]  5.680678  7.434295 3.653196 12.12450 3.933203 1.446094 3.340172  6.303991\n",
      "          345      346       347      348      349       351       353\n",
      "[1,] 6.833745 3.245854 2.8719439 5.764314 5.873718 2.8577400 13.177143\n",
      "[2,] 4.769483 2.591526 3.7881383 1.701940 8.973700 0.6423815 12.857520\n",
      "[3,] 3.356842 2.447109 5.0153788 8.965586 7.518736 3.5309527  7.474476\n",
      "[4,] 2.339030 4.641685 1.5102169 6.345958 2.115190 3.4486489 30.697466\n",
      "[5,] 4.654367 3.526719 0.8482738 4.806233 4.289170 3.7892460 19.386802\n",
      "[6,] 2.289144 1.692889 4.0444784 7.446647 3.408691 8.9522742  8.424466\n",
      "           355       356       358       359       360       361       362\n",
      "[1,]  5.532028 14.721291  2.369326  4.582022 20.038947 14.600332  3.671993\n",
      "[2,]  6.045091  6.583299  7.502563  9.237325 18.171046  2.429671  9.445244\n",
      "[3,] 10.235698  5.902968  4.788743 11.051739 11.513750 19.117684  3.955017\n",
      "[4,]  6.975203  4.906633  4.490595  4.325083 29.124657  7.877575  8.475942\n",
      "[5,] 10.639967  5.311572  1.994406  4.274672 19.254344  5.479299  5.626815\n",
      "[6,] 13.078265  5.767104 10.128470  4.933633  5.259324 16.344699 19.293693\n",
      "          363      364      365       366       367       368       369\n",
      "[1,] 6.804951 3.402194 5.678209  8.143023  3.005049  2.396198  9.995605\n",
      "[2,] 4.545511 3.771344 4.970773 15.062186  4.248839  5.082630 12.260325\n",
      "[3,] 9.991610 7.150482 3.490513 12.274181  6.475605 10.674298 10.767187\n",
      "[4,] 7.231587 7.673193 3.190938 15.415193 12.771022  6.558897  7.898772\n",
      "[5,] 4.623327 3.682277 2.310112  9.641179  6.052512  4.628265 12.060713\n",
      "[6,] 7.440097 7.932521 1.530091  7.555302  7.728137  8.482392  8.164243\n",
      "          370      371      372       373       374      375      376      377\n",
      "[1,] 4.543125 3.891376 6.012529  8.276255 11.642003 2.359023 4.310645 7.077834\n",
      "[2,] 3.816240 7.618478 5.986553  6.761323  8.479280 3.117986 4.212875 2.671613\n",
      "[3,] 3.568259 3.584287 2.473284  4.132492 15.744612 4.749581 3.517402 2.988345\n",
      "[4,] 3.164901 9.362848 5.655964  7.058305  9.544016 5.838253 1.677799 6.333701\n",
      "[5,] 3.851070 2.723612 6.365974 10.910617 13.726654 3.887682 2.302692 3.274669\n",
      "[6,] 2.412369 4.651563 5.643284  3.236447  5.048962 4.923634 1.871501 7.239036\n",
      "           378       379       380      381       383      384      385\n",
      "[1,]  9.203257  4.456296 11.550636 5.160553 14.818683 8.501529 1.956432\n",
      "[2,] 15.203051  3.876371  7.309301 4.429244 12.487269 6.931664 4.291835\n",
      "[3,]  5.868275 10.775033 12.853706 1.767081  4.724621 5.422496 4.701510\n",
      "[4,] 16.223235  6.956819  7.702159 4.805049 11.069588 6.419174 5.511460\n",
      "[5,] 10.127427  4.305787  9.658804 6.136738 12.859514 4.195705 4.069410\n",
      "[6,]  6.053259  6.343864  8.771700 5.393167 11.786759 3.033551 1.960116\n",
      "          386       387       388       389      391       392       393\n",
      "[1,] 3.224995 14.776279 0.7834414  5.841703 7.744195 1.8375239  7.510936\n",
      "[2,] 2.102485  7.239239 1.6733791  4.980429 2.045365 0.6666999 20.731640\n",
      "[3,] 5.385280 19.714850 3.3928878  9.329702 0.408276 1.3171855 15.362775\n",
      "[4,] 1.405388 16.258575 4.5519062  5.439472 5.198836 2.4998834  1.768493\n",
      "[5,] 1.721627  9.721734 1.7035966  9.072334 2.310547 1.7273925  4.571587\n",
      "[6,] 2.442236  4.744380 2.8182903 10.178466 3.555431 1.3854484 14.676550\n",
      "           394      395      396      397       398       399      401\n",
      "[1,]  9.529733 2.302972 1.098585 4.843353 17.437282 13.936286 4.546381\n",
      "[2,]  1.990014 5.703795 2.201988 4.569910 27.346862 21.489987 1.836638\n",
      "[3,]  4.579491 2.471557 5.984809 2.439529 15.565028 11.811626 1.022107\n",
      "[4,]  5.855611 3.558748 3.406868 5.234584 11.171040 10.886141 3.471059\n",
      "[5,]  2.790296 2.182628 2.258707 2.957644  7.239277  8.668896 2.036846\n",
      "[6,] 11.285784 6.069853 3.147213 5.305713 22.282973 13.315072 1.922756\n",
      "           403       404      405      406       407       408      409\n",
      "[1,]  4.695742  5.066353 1.947193 4.071383 2.0576875  3.880020  7.47647\n",
      "[2,]  5.505116  7.091546 2.556987 1.310214 0.4221528  9.934186 21.28486\n",
      "[3,]  8.364740  3.892012 2.737259 1.052318 1.3057048  4.708249 12.92947\n",
      "[4,] 13.457962  4.874141 5.244149 1.403922 2.0177446  9.861711 15.45945\n",
      "[5,]  6.243893 10.707489 2.987456 2.049916 0.8391511  6.392875 15.03932\n",
      "[6,] 12.937825  7.469622 1.811658 1.472938 0.7837235 10.839744 14.72027\n",
      "           410      411       412       413       414      416       418\n",
      "[1,]  4.498224 3.850987  8.384646 0.5832771  3.587110 3.813931  3.013627\n",
      "[2,]  7.532996 2.156000 16.663642 1.3627435 11.143628 5.218607  3.977261\n",
      "[3,]  7.244062 4.919498 14.287083 1.4668922  1.757373 2.312022 24.693614\n",
      "[4,]  7.766862 1.618560  8.353125 2.4970349  8.265376 2.022835  3.669956\n",
      "[5,] 11.204907 4.214473 11.310480 3.1541721  3.061922 2.036905  9.371268\n",
      "[6,] 15.451059 1.077569  6.462037 2.5217636  5.880331 6.025503 16.517553\n",
      "           419       421       422      423      426      427      428\n",
      "[1,]  9.007190  5.326963 2.7068650 3.089004 3.295934 1.659591 1.944679\n",
      "[2,]  9.849687 11.530228 0.9359822 2.800700 3.278804 3.681143 2.139047\n",
      "[3,]  9.136727  5.180572 2.7068593 2.905596 1.591175 3.818442 1.921475\n",
      "[4,]  4.665734  9.338840 3.2214164 3.314347 3.155038 2.792728 1.590413\n",
      "[5,] 13.603649  7.490843 1.6132105 2.462204 2.179319 3.906535 1.749045\n",
      "[6,]  3.190751  6.903143 1.7317120 3.266153 2.608428 3.575668 2.787614\n",
      "           429      430      431       433       436       437       438\n",
      "[1,]  9.956071 2.599115 4.304369  9.266073  8.954182 10.227269  6.385514\n",
      "[2,]  9.743570 3.692800 3.760489 12.876019 13.729572  4.270674  6.062710\n",
      "[3,]  2.891407 4.692245 2.951354  3.436068  6.495302  5.675367 11.492059\n",
      "[4,]  9.198040 5.345210 7.187258 31.841544 10.091359  5.367131 14.243222\n",
      "[5,]  8.657075 5.154555 5.155836 19.500521  4.764412  5.794854  5.112287\n",
      "[6,] 12.146687 5.128925 4.013667  9.214516  4.894089  4.239201  6.341287\n",
      "           439       440       441      442      444       445      446\n",
      "[1,] 3.1503946 1.6759621 12.066410 2.519748 1.024597 18.714878 16.66983\n",
      "[2,] 0.7788366 2.1835944 10.636959 3.426914 1.490358  8.262844 11.43247\n",
      "[3,] 0.8480345 0.9136624 10.471097 1.379549 3.661026 20.937307 16.06364\n",
      "[4,] 1.0772512 1.5463547  9.040921 1.484704 2.210195 11.406952 30.80804\n",
      "[5,] 1.2002551 3.0693532 19.240574 3.266770 2.803351 15.939002 20.25881\n",
      "[6,] 1.3967498 3.0965731  7.090926 1.296848 1.600007 11.783858 16.65908\n",
      "           447      448       449       450      453      454      456\n",
      "[1,]  7.677684 4.960577 36.561794  5.657220 2.926195 3.019494 3.674448\n",
      "[2,]  5.625619 6.914004  9.866537  4.157260 3.834258 3.949709 2.440477\n",
      "[3,] 12.530561 7.956843 25.298671 11.114027 2.819006 3.309445 5.174994\n",
      "[4,]  6.197730 4.680651 34.026677  5.777620 5.689236 4.310691 2.665251\n",
      "[5,]  6.765585 5.876027 33.059084  9.033628 2.831546 4.641072 2.853311\n",
      "[6,]  5.691904 7.645322 53.096509  5.221932 5.149447 6.501644 4.428498\n",
      "            457      458       459      461       462      463       464\n",
      "[1,]  8.3792356 2.807049  8.484689 3.829792  5.853574 7.070764 19.584374\n",
      "[2,] 10.9061294 3.407963  8.377297 4.280213 18.623958 4.111464  4.156882\n",
      "[3,]  0.8465036 1.885096  7.885485 2.767691 14.985132 4.883201 26.948307\n",
      "[4,]  8.9035059 2.905202  3.305159 2.680894 15.374829 3.469434  4.340427\n",
      "[5,]  7.9243385 3.650002 10.127260 5.270085 14.123339 3.562100  8.264129\n",
      "[6,] 25.5350260 3.512459  9.077732 3.520839 44.418088 6.544587 17.457902\n",
      "          465       466      467      468      469       470      471       472\n",
      "[1,] 3.191780  7.344918 6.734418 1.804447 2.553938  4.788204 2.520556 22.671669\n",
      "[2,] 3.051470  8.219528 8.726834 1.597107 2.193915  5.163660 1.818501  4.112472\n",
      "[3,] 2.631152  6.469904 4.170150 1.151836 2.912140  9.172481 3.446309  2.745900\n",
      "[4,] 3.807256 11.910282 5.411147 0.645838 1.713679 13.716056 2.258239  3.002755\n",
      "[5,] 2.662751  6.428855 9.193352 2.365328 3.784135 11.224228 1.933249  5.291834\n",
      "[6,] 3.572844  9.820841 2.627496 2.778727 1.415821 23.156870 2.884807  4.276773\n",
      "          473      474       475      477       479      480       481\n",
      "[1,] 4.848747 7.714331  3.150406 4.111377  9.968442 2.232532 13.727503\n",
      "[2,] 1.503545 4.722403  2.846503 2.916724 29.595021 3.499178 25.247283\n",
      "[3,] 2.757761 6.585964  5.880182 9.398998 35.321256 3.031318 33.523632\n",
      "[4,] 4.629538 6.502443 13.082302 4.140545 39.292707 1.468668 16.084354\n",
      "[5,] 1.958845 3.803820  3.338325 2.850498 21.067322 3.227791 25.925631\n",
      "[6,] 2.086358 3.281981  7.845473 5.556276 26.477974 3.933858  9.253445\n",
      "           482       483      484      485      486      487       489      490\n",
      "[1,]  7.944219 1.2685743 15.31842 3.215380 1.403484 4.159862  4.937972 3.763920\n",
      "[2,] 10.376834 0.6574595 36.32324 5.833691 1.350065 4.563465  4.072085 4.995385\n",
      "[3,]  7.932147 2.7973681 27.60848 4.522493 1.900325 5.214716  9.765110 4.494835\n",
      "[4,]  7.970648 1.7393562  6.61265 3.048973 1.990025 3.937994  6.789526 4.830884\n",
      "[5,]  7.658161 2.6684402 15.51403 3.652202 1.861872 4.551319  5.716174 1.672360\n",
      "[6,]  4.898174 2.8506478 13.54073 2.955156 2.122546 9.630404 10.471805 3.694200\n"
     ]
    },
    {
     "data": {
      "image/png": "[encoded data removed]",
      "text/plain": [
       "plot without title"
      ]
     },
     "metadata": {
      "image/png": {
       "height": 420,
       "width": 420
      }
     },
     "output_type": "display_data"
    }
   ],
   "source": [
    "set.seed(123) # for reproducibility\n",
    "selected_features <- colnames(predictors)\n",
    "index <- createDataPartition(shooting$Gls, p = 0.8, list = FALSE)\n",
    "train_data <- shooting[index, ]\n",
    "test_data <- shooting[-index, ]\n",
    "\n",
    "bayesian_model <- stan_glm(Gls ~ Age + X90s + Sh + SoT + SoT. + PK + PKatt + FK + X90s + Dist, \n",
    "                           data = train_data, \n",
    "                           family = Gamma(link = \"inverse\"),  # Exponential distribution is a special case of the Gamma distribution\n",
    "                           prior = normal(0, 2.5, autoscale = TRUE),  # Normal priors for the coefficients\n",
    "                           iter = 1000,  # Number of MCMC iterations\n",
    "                           chains = 4,  # Number of Markov chains\n",
    "                           seed = 12345)  # For reproducibility\n",
    "\n",
    "# Summary of the model\n",
    "summary(bayesian_model)\n",
    "\n",
    "plot(bayesian_model)\n",
    "\n",
    "predicted_values <- posterior_predict(bayesian_model)\n",
    "\n",
    "print(head(predicted_values))\n"
   ]
  },
  {
   "cell_type": "code",
   "execution_count": 11,
   "id": "fe6e408f-b802-445c-bb94-512f69ae8279",
   "metadata": {},
   "outputs": [
    {
     "data": {
      "image/png": "[encoded data removed]",
      "text/plain": [
       "plot without title"
      ]
     },
     "metadata": {
      "image/png": {
       "height": 420,
       "width": 420
      }
     },
     "output_type": "display_data"
    }
   ],
   "source": [
    "mcmc_trace(bayesian_model)"
   ]
  },
  {
   "cell_type": "code",
   "execution_count": 12,
   "id": "6d3a0a7d-3c60-48af-b61b-4b498df5128c",
   "metadata": {},
   "outputs": [],
   "source": [
    "predicted_values <- posterior_predict(bayesian_model)"
   ]
  },
  {
   "cell_type": "code",
   "execution_count": 13,
   "id": "d40461f1-570d-40f4-a63b-176d608f2671",
   "metadata": {},
   "outputs": [],
   "source": [
    "predicted_means <- apply(predicted_values, 1, mean)  # Taking the mean of predictions across all posterior samples"
   ]
  },
  {
   "cell_type": "code",
   "execution_count": 14,
   "id": "3455c6e5-d5f9-42b2-9e35-7e12ae1bf050",
   "metadata": {},
   "outputs": [
    {
     "name": "stderr",
     "output_type": "stream",
     "text": [
      "Warning message in predicted_means - actual_values:\n",
      "\"longer object length is not a multiple of shorter object length\"\n",
      "Warning message in predicted_means - actual_values:\n",
      "\"longer object length is not a multiple of shorter object length\"\n"
     ]
    },
    {
     "name": "stdout",
     "output_type": "stream",
     "text": [
      "[1] \"MSE: 43.8351856716206\"\n",
      "[1] \"RMSE: 6.62081457764984\"\n",
      "[1] \"MAE: 4.50268787264241\"\n"
     ]
    }
   ],
   "source": [
    "actual_values <- test_data$Gls\n",
    "\n",
    "# MSE\n",
    "mse <- mean((predicted_means - actual_values)^2)\n",
    "\n",
    "# RMSE\n",
    "rmse <- sqrt(mse)\n",
    "\n",
    "# MAE\n",
    "mae <- mean(abs(predicted_means - actual_values))\n",
    "\n",
    "# Print the results\n",
    "print(paste(\"MSE:\", mse))\n",
    "print(paste(\"RMSE:\", rmse))\n",
    "print(paste(\"MAE:\", mae))\n"
   ]
  },
  {
   "cell_type": "code",
   "execution_count": 15,
   "id": "f52a64a5-5333-4995-ae27-52cf35dac3cc",
   "metadata": {},
   "outputs": [
    {
     "name": "stderr",
     "output_type": "stream",
     "text": [
      "Warning message:\n",
      "\"The following arguments were unrecognized and ignored: type, nsims, binwidth\"\n"
     ]
    },
    {
     "data": {
      "image/png": "[encoded data removed]",
      "text/plain": [
       "plot without title"
      ]
     },
     "metadata": {
      "image/png": {
       "height": 420,
       "width": 420
      }
     },
     "output_type": "display_data"
    }
   ],
   "source": [
    "library(bayesplot)\n",
    "pp_check(bayesian_model, type = \"hist\", nsims = 50, binwidth = 0.1)"
   ]
  }
 ],
 "metadata": {
  "kernelspec": {
   "display_name": "R",
   "language": "R",
   "name": "ir"
  },
  "language_info": {
   "codemirror_mode": "r",
   "file_extension": ".r",
   "mimetype": "text/x-r-source",
   "name": "R",
   "pygments_lexer": "r",
   "version": "4.3.1"
  }
 },
 "nbformat": 4,
 "nbformat_minor": 5
}
